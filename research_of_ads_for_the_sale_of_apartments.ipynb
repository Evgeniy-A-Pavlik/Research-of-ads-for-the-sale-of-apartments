{
  "cells": [
    {
      "cell_type": "markdown",
      "metadata": {
        "cellId": "6jr4d15f98j931l6u0posr",
        "toc": true,
        "id": "L4_V6TPwohDs"
      },
      "source": [
        "<h1>Содержание<span class=\"tocSkip\"></span></h1>\n",
        "<div class=\"toc\"><ul class=\"toc-item\"><li><span><a href=\"#Изучение-данных-из-файла\" data-toc-modified-id=\"Изучение-данных-из-файла-1\"><span class=\"toc-item-num\">1&nbsp;&nbsp;</span>Изучение данных из файла</a></span><ul class=\"toc-item\"><li><span><a href=\"#Вывод\" data-toc-modified-id=\"Вывод-1.1\"><span class=\"toc-item-num\">1.1&nbsp;&nbsp;</span>Вывод</a></span></li></ul></li><li><span><a href=\"#Предобработка-данных\" data-toc-modified-id=\"Предобработка-данных-2\"><span class=\"toc-item-num\">2&nbsp;&nbsp;</span>Предобработка данных</a></span><ul class=\"toc-item\"><li><span><a href=\"#Обработка-пропусков\" data-toc-modified-id=\"Обработка-пропусков-2.1\"><span class=\"toc-item-num\">2.1&nbsp;&nbsp;</span>Обработка пропусков</a></span></li><li><span><a href=\"#Приведение-данных-к-нужным-типам\" data-toc-modified-id=\"Приведение-данных-к-нужным-типам-2.2\"><span class=\"toc-item-num\">2.2&nbsp;&nbsp;</span>Приведение данных к нужным типам</a></span></li></ul></li><li><span><a href=\"#Расчёты-и-добавление-результатов-в-таблицу\" data-toc-modified-id=\"Расчёты-и-добавление-результатов-в-таблицу-3\"><span class=\"toc-item-num\">3&nbsp;&nbsp;</span>Расчёты и добавление результатов в таблицу</a></span></li><li><span><a href=\"#Исследовательский-анализ-данных\" data-toc-modified-id=\"Исследовательский-анализ-данных-4\"><span class=\"toc-item-num\">4&nbsp;&nbsp;</span>Исследовательский анализ данных</a></span><ul class=\"toc-item\"><li><span><a href=\"#Площадь,-цена,-число-комнат,-высота-потолков\" data-toc-modified-id=\"Площадь,-цена,-число-комнат,-высота-потолков-4.1\"><span class=\"toc-item-num\">4.1&nbsp;&nbsp;</span>Площадь, цена, число комнат, высота потолков</a></span><ul class=\"toc-item\"><li><span><a href=\"#Площадь\" data-toc-modified-id=\"Площадь-4.1.1\"><span class=\"toc-item-num\">4.1.1&nbsp;&nbsp;</span>Площадь</a></span></li><li><span><a href=\"#Цена\" data-toc-modified-id=\"Цена-4.1.2\"><span class=\"toc-item-num\">4.1.2&nbsp;&nbsp;</span>Цена</a></span></li><li><span><a href=\"#Число-комнат\" data-toc-modified-id=\"Число-комнат-4.1.3\"><span class=\"toc-item-num\">4.1.3&nbsp;&nbsp;</span>Число комнат</a></span></li><li><span><a href=\"#Высота-потолков\" data-toc-modified-id=\"Высота-потолков-4.1.4\"><span class=\"toc-item-num\">4.1.4&nbsp;&nbsp;</span>Высота потолков</a></span></li></ul></li><li><span><a href=\"#Время-продажи-квартиры\" data-toc-modified-id=\"Время-продажи-квартиры-4.2\"><span class=\"toc-item-num\">4.2&nbsp;&nbsp;</span>Время продажи квартиры</a></span></li><li><span><a href=\"#Редкие-и-выбивающиеся-значения\" data-toc-modified-id=\"Редкие-и-выбивающиеся-значения-4.3\"><span class=\"toc-item-num\">4.3&nbsp;&nbsp;</span>Редкие и выбивающиеся значения</a></span></li><li><span><a href=\"#Какие-факторы-больше-всего-влияют-на-стоимость-квартиры?\" data-toc-modified-id=\"Какие-факторы-больше-всего-влияют-на-стоимость-квартиры?-4.4\"><span class=\"toc-item-num\">4.4&nbsp;&nbsp;</span>Какие факторы больше всего влияют на стоимость квартиры?</a></span></li><li><span><a href=\"#Выбираем-10-населённых-пунктов-с-наибольшим-числом-объявлений\" data-toc-modified-id=\"Выбираем-10-населённых-пунктов-с-наибольшим-числом-объявлений-4.5\"><span class=\"toc-item-num\">4.5&nbsp;&nbsp;</span>Выбираем 10 населённых пунктов с наибольшим числом объявлений</a></span></li><li><span><a href=\"#Определяем-границы-центра-Санкт-Петербурга\" data-toc-modified-id=\"Определяем-границы-центра-Санкт-Петербурга-4.6\"><span class=\"toc-item-num\">4.6&nbsp;&nbsp;</span>Определяем границы центра Санкт-Петербурга</a></span></li><li><span><a href=\"#Выделяем-сегмент-квартир-в-центре\" data-toc-modified-id=\"Выделяем-сегмент-квартир-в-центре-4.7\"><span class=\"toc-item-num\">4.7&nbsp;&nbsp;</span>Выделяем сегмент квартир в центре</a></span><ul class=\"toc-item\"><li><span><a href=\"#Площадь\" data-toc-modified-id=\"Площадь-4.7.1\"><span class=\"toc-item-num\">4.7.1&nbsp;&nbsp;</span>Площадь</a></span></li><li><span><a href=\"#Цена\" data-toc-modified-id=\"Цена-4.7.2\"><span class=\"toc-item-num\">4.7.2&nbsp;&nbsp;</span>Цена</a></span></li><li><span><a href=\"#Число-комнат\" data-toc-modified-id=\"Число-комнат-4.7.3\"><span class=\"toc-item-num\">4.7.3&nbsp;&nbsp;</span>Число комнат</a></span></li><li><span><a href=\"#Высота-потолков\" data-toc-modified-id=\"Высота-потолков-4.7.4\"><span class=\"toc-item-num\">4.7.4&nbsp;&nbsp;</span>Высота потолков</a></span></li></ul></li></ul></li><li><span><a href=\"#Общий-вывод\" data-toc-modified-id=\"Общий-вывод-5\"><span class=\"toc-item-num\">5&nbsp;&nbsp;</span>Общий вывод</a></span></li><li><span><a href=\"#Чек-лист-готовности-проекта\" data-toc-modified-id=\"Чек-лист-готовности-проекта-6\"><span class=\"toc-item-num\">6&nbsp;&nbsp;</span>Чек-лист готовности проекта</a></span></li></ul></div>"
      ]
    },
    {
      "cell_type": "code",
      "execution_count": null,
      "metadata": {
        "cellId": "quseh8t666atvdgonytog",
        "id": "Sv1xcCswohDx",
        "outputId": "365860cf-9ee8-44dd-c4b6-41848e732d6b"
      },
      "outputs": [
        {
          "name": "stdout",
          "output_type": "stream",
          "text": [
            "\u001b[33mWARNING: You are using pip version 21.0.1; however, version 21.3.1 is available.\n",
            "You should consider upgrading via the '/usr/local/bin/python3 -m pip install --upgrade pip' command.\u001b[0m\n"
          ]
        }
      ],
      "source": [
        "#%pip install -q -r requirements.txt"
      ]
    },
    {
      "cell_type": "markdown",
      "metadata": {
        "cellId": "dzqgryagpurjrgr01xeg",
        "id": "0SQjMTKRohEB"
      },
      "source": [
        "# Исследование объявлений о продаже квартир\n",
        "\n",
        "В вашем распоряжении данные сервиса Яндекс.Недвижимость — архив объявлений о продаже квартир в Санкт-Петербурге и соседних населённых пунктах за несколько лет. Нужно научиться определять рыночную стоимость объектов недвижимости. Ваша задача — установить параметры. Это позволит построить автоматизированную систему: она отследит аномалии и мошенническую деятельность. \n",
        "\n",
        "По каждой квартире на продажу доступны два вида данных. Первые вписаны пользователем, вторые получены автоматически на основе картографических данных. Например, расстояние до центра, аэропорта, ближайшего парка и водоёма. "
      ]
    },
    {
      "cell_type": "markdown",
      "metadata": {
        "cellId": "fd0jinnig8jwmw3mlohik",
        "id": "ZoQTl7_oohEE"
      },
      "source": [
        "## Изучение данных из файла"
      ]
    },
    {
      "cell_type": "code",
      "execution_count": null,
      "metadata": {
        "cellId": "xi50i473uxod41gvo0w9tk",
        "id": "2TSBTI8uohEH"
      },
      "outputs": [],
      "source": [
        "import pandas as pd\n",
        "import matplotlib.pyplot as plt\n",
        "import numpy as np"
      ]
    },
    {
      "cell_type": "code",
      "execution_count": null,
      "metadata": {
        "cellId": "xzgrq9nycej5vy4tll6bt",
        "id": "PARmjay0ohEL",
        "outputId": "f54c1a3c-7c1c-4e5d-e5b4-26ea7aa68146"
      },
      "outputs": [
        {
          "data": {
            "text/html": [
              "<div>\n",
              "<style scoped>\n",
              "    .dataframe tbody tr th:only-of-type {\n",
              "        vertical-align: middle;\n",
              "    }\n",
              "\n",
              "    .dataframe tbody tr th {\n",
              "        vertical-align: top;\n",
              "    }\n",
              "\n",
              "    .dataframe thead th {\n",
              "        text-align: right;\n",
              "    }\n",
              "</style>\n",
              "<table border=\"1\" class=\"dataframe\">\n",
              "  <thead>\n",
              "    <tr style=\"text-align: right;\">\n",
              "      <th></th>\n",
              "      <th>total_images</th>\n",
              "      <th>last_price</th>\n",
              "      <th>total_area</th>\n",
              "      <th>first_day_exposition</th>\n",
              "      <th>rooms</th>\n",
              "      <th>ceiling_height</th>\n",
              "      <th>floors_total</th>\n",
              "      <th>living_area</th>\n",
              "      <th>floor</th>\n",
              "      <th>is_apartment</th>\n",
              "      <th>...</th>\n",
              "      <th>kitchen_area</th>\n",
              "      <th>balcony</th>\n",
              "      <th>locality_name</th>\n",
              "      <th>airports_nearest</th>\n",
              "      <th>cityCenters_nearest</th>\n",
              "      <th>parks_around3000</th>\n",
              "      <th>parks_nearest</th>\n",
              "      <th>ponds_around3000</th>\n",
              "      <th>ponds_nearest</th>\n",
              "      <th>days_exposition</th>\n",
              "    </tr>\n",
              "  </thead>\n",
              "  <tbody>\n",
              "    <tr>\n",
              "      <td>0</td>\n",
              "      <td>20</td>\n",
              "      <td>13000000.0</td>\n",
              "      <td>108.0</td>\n",
              "      <td>2019-03-07T00:00:00</td>\n",
              "      <td>3</td>\n",
              "      <td>2.70</td>\n",
              "      <td>16.0</td>\n",
              "      <td>51.0</td>\n",
              "      <td>8</td>\n",
              "      <td>NaN</td>\n",
              "      <td>...</td>\n",
              "      <td>25.0</td>\n",
              "      <td>NaN</td>\n",
              "      <td>Санкт-Петербург</td>\n",
              "      <td>18863.0</td>\n",
              "      <td>16028.0</td>\n",
              "      <td>1.0</td>\n",
              "      <td>482.0</td>\n",
              "      <td>2.0</td>\n",
              "      <td>755.0</td>\n",
              "      <td>NaN</td>\n",
              "    </tr>\n",
              "    <tr>\n",
              "      <td>1</td>\n",
              "      <td>7</td>\n",
              "      <td>3350000.0</td>\n",
              "      <td>40.4</td>\n",
              "      <td>2018-12-04T00:00:00</td>\n",
              "      <td>1</td>\n",
              "      <td>NaN</td>\n",
              "      <td>11.0</td>\n",
              "      <td>18.6</td>\n",
              "      <td>1</td>\n",
              "      <td>NaN</td>\n",
              "      <td>...</td>\n",
              "      <td>11.0</td>\n",
              "      <td>2.0</td>\n",
              "      <td>посёлок Шушары</td>\n",
              "      <td>12817.0</td>\n",
              "      <td>18603.0</td>\n",
              "      <td>0.0</td>\n",
              "      <td>NaN</td>\n",
              "      <td>0.0</td>\n",
              "      <td>NaN</td>\n",
              "      <td>81.0</td>\n",
              "    </tr>\n",
              "    <tr>\n",
              "      <td>2</td>\n",
              "      <td>10</td>\n",
              "      <td>5196000.0</td>\n",
              "      <td>56.0</td>\n",
              "      <td>2015-08-20T00:00:00</td>\n",
              "      <td>2</td>\n",
              "      <td>NaN</td>\n",
              "      <td>5.0</td>\n",
              "      <td>34.3</td>\n",
              "      <td>4</td>\n",
              "      <td>NaN</td>\n",
              "      <td>...</td>\n",
              "      <td>8.3</td>\n",
              "      <td>0.0</td>\n",
              "      <td>Санкт-Петербург</td>\n",
              "      <td>21741.0</td>\n",
              "      <td>13933.0</td>\n",
              "      <td>1.0</td>\n",
              "      <td>90.0</td>\n",
              "      <td>2.0</td>\n",
              "      <td>574.0</td>\n",
              "      <td>558.0</td>\n",
              "    </tr>\n",
              "    <tr>\n",
              "      <td>3</td>\n",
              "      <td>0</td>\n",
              "      <td>64900000.0</td>\n",
              "      <td>159.0</td>\n",
              "      <td>2015-07-24T00:00:00</td>\n",
              "      <td>3</td>\n",
              "      <td>NaN</td>\n",
              "      <td>14.0</td>\n",
              "      <td>NaN</td>\n",
              "      <td>9</td>\n",
              "      <td>NaN</td>\n",
              "      <td>...</td>\n",
              "      <td>NaN</td>\n",
              "      <td>0.0</td>\n",
              "      <td>Санкт-Петербург</td>\n",
              "      <td>28098.0</td>\n",
              "      <td>6800.0</td>\n",
              "      <td>2.0</td>\n",
              "      <td>84.0</td>\n",
              "      <td>3.0</td>\n",
              "      <td>234.0</td>\n",
              "      <td>424.0</td>\n",
              "    </tr>\n",
              "    <tr>\n",
              "      <td>4</td>\n",
              "      <td>2</td>\n",
              "      <td>10000000.0</td>\n",
              "      <td>100.0</td>\n",
              "      <td>2018-06-19T00:00:00</td>\n",
              "      <td>2</td>\n",
              "      <td>3.03</td>\n",
              "      <td>14.0</td>\n",
              "      <td>32.0</td>\n",
              "      <td>13</td>\n",
              "      <td>NaN</td>\n",
              "      <td>...</td>\n",
              "      <td>41.0</td>\n",
              "      <td>NaN</td>\n",
              "      <td>Санкт-Петербург</td>\n",
              "      <td>31856.0</td>\n",
              "      <td>8098.0</td>\n",
              "      <td>2.0</td>\n",
              "      <td>112.0</td>\n",
              "      <td>1.0</td>\n",
              "      <td>48.0</td>\n",
              "      <td>121.0</td>\n",
              "    </tr>\n",
              "  </tbody>\n",
              "</table>\n",
              "<p>5 rows × 22 columns</p>\n",
              "</div>"
            ],
            "text/plain": [
              "   total_images  last_price  total_area first_day_exposition  rooms  \\\n",
              "0            20  13000000.0       108.0  2019-03-07T00:00:00      3   \n",
              "1             7   3350000.0        40.4  2018-12-04T00:00:00      1   \n",
              "2            10   5196000.0        56.0  2015-08-20T00:00:00      2   \n",
              "3             0  64900000.0       159.0  2015-07-24T00:00:00      3   \n",
              "4             2  10000000.0       100.0  2018-06-19T00:00:00      2   \n",
              "\n",
              "   ceiling_height  floors_total  living_area  floor is_apartment  ...  \\\n",
              "0            2.70          16.0         51.0      8          NaN  ...   \n",
              "1             NaN          11.0         18.6      1          NaN  ...   \n",
              "2             NaN           5.0         34.3      4          NaN  ...   \n",
              "3             NaN          14.0          NaN      9          NaN  ...   \n",
              "4            3.03          14.0         32.0     13          NaN  ...   \n",
              "\n",
              "   kitchen_area  balcony    locality_name  airports_nearest  \\\n",
              "0          25.0      NaN  Санкт-Петербург           18863.0   \n",
              "1          11.0      2.0   посёлок Шушары           12817.0   \n",
              "2           8.3      0.0  Санкт-Петербург           21741.0   \n",
              "3           NaN      0.0  Санкт-Петербург           28098.0   \n",
              "4          41.0      NaN  Санкт-Петербург           31856.0   \n",
              "\n",
              "  cityCenters_nearest  parks_around3000  parks_nearest  ponds_around3000  \\\n",
              "0             16028.0               1.0          482.0               2.0   \n",
              "1             18603.0               0.0            NaN               0.0   \n",
              "2             13933.0               1.0           90.0               2.0   \n",
              "3              6800.0               2.0           84.0               3.0   \n",
              "4              8098.0               2.0          112.0               1.0   \n",
              "\n",
              "   ponds_nearest  days_exposition  \n",
              "0          755.0              NaN  \n",
              "1            NaN             81.0  \n",
              "2          574.0            558.0  \n",
              "3          234.0            424.0  \n",
              "4           48.0            121.0  \n",
              "\n",
              "[5 rows x 22 columns]"
            ]
          },
          "metadata": {},
          "output_type": "display_data"
        }
      ],
      "source": [
        "df = pd.read_csv('/datasets/real_estate_data.csv', sep='\\t')\n",
        "df.head()"
      ]
    },
    {
      "cell_type": "code",
      "execution_count": null,
      "metadata": {
        "cellId": "p2n4vt3tn2iqjrrmwfvbj",
        "id": "2k2PnWJjohEP",
        "outputId": "cc56d69d-9a6d-46bb-d46e-46436e4f07ac"
      },
      "outputs": [
        {
          "data": {
            "text/plain": [
              "Index(['total_images', 'last_price', 'total_area', 'first_day_exposition',\n",
              "       'rooms', 'ceiling_height', 'floors_total', 'living_area', 'floor',\n",
              "       'is_apartment', 'studio', 'open_plan', 'kitchen_area', 'balcony',\n",
              "       'locality_name', 'airports_nearest', 'cityCenters_nearest',\n",
              "       'parks_around3000', 'parks_nearest', 'ponds_around3000',\n",
              "       'ponds_nearest', 'days_exposition'],\n",
              "      dtype='object')"
            ]
          },
          "metadata": {},
          "output_type": "display_data"
        }
      ],
      "source": [
        "df.columns"
      ]
    },
    {
      "cell_type": "code",
      "execution_count": null,
      "metadata": {
        "cellId": "qqji7r1uogdussmut7mobp",
        "id": "CriswFWVohEa",
        "outputId": "84295535-26b5-4c6c-8418-69925ebf6e32"
      },
      "outputs": [
        {
          "name": "stdout",
          "output_type": "stream",
          "text": [
            "<class 'pandas.core.frame.DataFrame'>\n",
            "RangeIndex: 23699 entries, 0 to 23698\n",
            "Data columns (total 22 columns):\n",
            "total_images            23699 non-null int64\n",
            "last_price              23699 non-null float64\n",
            "total_area              23699 non-null float64\n",
            "first_day_exposition    23699 non-null object\n",
            "rooms                   23699 non-null int64\n",
            "ceiling_height          14504 non-null float64\n",
            "floors_total            23613 non-null float64\n",
            "living_area             21796 non-null float64\n",
            "floor                   23699 non-null int64\n",
            "is_apartment            2775 non-null object\n",
            "studio                  23699 non-null bool\n",
            "open_plan               23699 non-null bool\n",
            "kitchen_area            21421 non-null float64\n",
            "balcony                 12180 non-null float64\n",
            "locality_name           23650 non-null object\n",
            "airports_nearest        18157 non-null float64\n",
            "cityCenters_nearest     18180 non-null float64\n",
            "parks_around3000        18181 non-null float64\n",
            "parks_nearest           8079 non-null float64\n",
            "ponds_around3000        18181 non-null float64\n",
            "ponds_nearest           9110 non-null float64\n",
            "days_exposition         20518 non-null float64\n",
            "dtypes: bool(2), float64(14), int64(3), object(3)\n",
            "memory usage: 3.7+ MB\n"
          ]
        }
      ],
      "source": [
        "df.info()"
      ]
    },
    {
      "cell_type": "code",
      "execution_count": null,
      "metadata": {
        "cellId": "6rzp3yt1dcpbak87ka4y5",
        "id": "_opsI5QqohEe",
        "outputId": "048a4a59-3131-433a-923c-bc336b5ff9b2"
      },
      "outputs": [
        {
          "data": {
            "text/html": [
              "<div>\n",
              "<style scoped>\n",
              "    .dataframe tbody tr th:only-of-type {\n",
              "        vertical-align: middle;\n",
              "    }\n",
              "\n",
              "    .dataframe tbody tr th {\n",
              "        vertical-align: top;\n",
              "    }\n",
              "\n",
              "    .dataframe thead th {\n",
              "        text-align: right;\n",
              "    }\n",
              "</style>\n",
              "<table border=\"1\" class=\"dataframe\">\n",
              "  <thead>\n",
              "    <tr style=\"text-align: right;\">\n",
              "      <th></th>\n",
              "      <th>total_images</th>\n",
              "      <th>last_price</th>\n",
              "      <th>total_area</th>\n",
              "      <th>rooms</th>\n",
              "      <th>ceiling_height</th>\n",
              "      <th>floors_total</th>\n",
              "      <th>living_area</th>\n",
              "      <th>floor</th>\n",
              "      <th>kitchen_area</th>\n",
              "      <th>balcony</th>\n",
              "      <th>airports_nearest</th>\n",
              "      <th>cityCenters_nearest</th>\n",
              "      <th>parks_around3000</th>\n",
              "      <th>parks_nearest</th>\n",
              "      <th>ponds_around3000</th>\n",
              "      <th>ponds_nearest</th>\n",
              "      <th>days_exposition</th>\n",
              "    </tr>\n",
              "  </thead>\n",
              "  <tbody>\n",
              "    <tr>\n",
              "      <td>count</td>\n",
              "      <td>23699.000000</td>\n",
              "      <td>2.369900e+04</td>\n",
              "      <td>23699.000000</td>\n",
              "      <td>23699.000000</td>\n",
              "      <td>14504.000000</td>\n",
              "      <td>23613.000000</td>\n",
              "      <td>21796.000000</td>\n",
              "      <td>23699.000000</td>\n",
              "      <td>21421.000000</td>\n",
              "      <td>12180.000000</td>\n",
              "      <td>18157.000000</td>\n",
              "      <td>18180.000000</td>\n",
              "      <td>18181.000000</td>\n",
              "      <td>8079.000000</td>\n",
              "      <td>18181.000000</td>\n",
              "      <td>9110.000000</td>\n",
              "      <td>20518.000000</td>\n",
              "    </tr>\n",
              "    <tr>\n",
              "      <td>mean</td>\n",
              "      <td>9.858475</td>\n",
              "      <td>6.541549e+06</td>\n",
              "      <td>60.348651</td>\n",
              "      <td>2.070636</td>\n",
              "      <td>2.771499</td>\n",
              "      <td>10.673824</td>\n",
              "      <td>34.457852</td>\n",
              "      <td>5.892358</td>\n",
              "      <td>10.569807</td>\n",
              "      <td>1.150082</td>\n",
              "      <td>28793.672193</td>\n",
              "      <td>14191.277833</td>\n",
              "      <td>0.611408</td>\n",
              "      <td>490.804555</td>\n",
              "      <td>0.770255</td>\n",
              "      <td>517.980900</td>\n",
              "      <td>180.888634</td>\n",
              "    </tr>\n",
              "    <tr>\n",
              "      <td>std</td>\n",
              "      <td>5.682529</td>\n",
              "      <td>1.088701e+07</td>\n",
              "      <td>35.654083</td>\n",
              "      <td>1.078405</td>\n",
              "      <td>1.261056</td>\n",
              "      <td>6.597173</td>\n",
              "      <td>22.030445</td>\n",
              "      <td>4.885249</td>\n",
              "      <td>5.905438</td>\n",
              "      <td>1.071300</td>\n",
              "      <td>12630.880622</td>\n",
              "      <td>8608.386210</td>\n",
              "      <td>0.802074</td>\n",
              "      <td>342.317995</td>\n",
              "      <td>0.938346</td>\n",
              "      <td>277.720643</td>\n",
              "      <td>219.727988</td>\n",
              "    </tr>\n",
              "    <tr>\n",
              "      <td>min</td>\n",
              "      <td>0.000000</td>\n",
              "      <td>1.219000e+04</td>\n",
              "      <td>12.000000</td>\n",
              "      <td>0.000000</td>\n",
              "      <td>1.000000</td>\n",
              "      <td>1.000000</td>\n",
              "      <td>2.000000</td>\n",
              "      <td>1.000000</td>\n",
              "      <td>1.300000</td>\n",
              "      <td>0.000000</td>\n",
              "      <td>0.000000</td>\n",
              "      <td>181.000000</td>\n",
              "      <td>0.000000</td>\n",
              "      <td>1.000000</td>\n",
              "      <td>0.000000</td>\n",
              "      <td>13.000000</td>\n",
              "      <td>1.000000</td>\n",
              "    </tr>\n",
              "    <tr>\n",
              "      <td>25%</td>\n",
              "      <td>6.000000</td>\n",
              "      <td>3.400000e+06</td>\n",
              "      <td>40.000000</td>\n",
              "      <td>1.000000</td>\n",
              "      <td>2.520000</td>\n",
              "      <td>5.000000</td>\n",
              "      <td>18.600000</td>\n",
              "      <td>2.000000</td>\n",
              "      <td>7.000000</td>\n",
              "      <td>0.000000</td>\n",
              "      <td>18585.000000</td>\n",
              "      <td>9238.000000</td>\n",
              "      <td>0.000000</td>\n",
              "      <td>288.000000</td>\n",
              "      <td>0.000000</td>\n",
              "      <td>294.000000</td>\n",
              "      <td>45.000000</td>\n",
              "    </tr>\n",
              "    <tr>\n",
              "      <td>50%</td>\n",
              "      <td>9.000000</td>\n",
              "      <td>4.650000e+06</td>\n",
              "      <td>52.000000</td>\n",
              "      <td>2.000000</td>\n",
              "      <td>2.650000</td>\n",
              "      <td>9.000000</td>\n",
              "      <td>30.000000</td>\n",
              "      <td>4.000000</td>\n",
              "      <td>9.100000</td>\n",
              "      <td>1.000000</td>\n",
              "      <td>26726.000000</td>\n",
              "      <td>13098.500000</td>\n",
              "      <td>0.000000</td>\n",
              "      <td>455.000000</td>\n",
              "      <td>1.000000</td>\n",
              "      <td>502.000000</td>\n",
              "      <td>95.000000</td>\n",
              "    </tr>\n",
              "    <tr>\n",
              "      <td>75%</td>\n",
              "      <td>14.000000</td>\n",
              "      <td>6.800000e+06</td>\n",
              "      <td>69.900000</td>\n",
              "      <td>3.000000</td>\n",
              "      <td>2.800000</td>\n",
              "      <td>16.000000</td>\n",
              "      <td>42.300000</td>\n",
              "      <td>8.000000</td>\n",
              "      <td>12.000000</td>\n",
              "      <td>2.000000</td>\n",
              "      <td>37273.000000</td>\n",
              "      <td>16293.000000</td>\n",
              "      <td>1.000000</td>\n",
              "      <td>612.000000</td>\n",
              "      <td>1.000000</td>\n",
              "      <td>729.000000</td>\n",
              "      <td>232.000000</td>\n",
              "    </tr>\n",
              "    <tr>\n",
              "      <td>max</td>\n",
              "      <td>50.000000</td>\n",
              "      <td>7.630000e+08</td>\n",
              "      <td>900.000000</td>\n",
              "      <td>19.000000</td>\n",
              "      <td>100.000000</td>\n",
              "      <td>60.000000</td>\n",
              "      <td>409.700000</td>\n",
              "      <td>33.000000</td>\n",
              "      <td>112.000000</td>\n",
              "      <td>5.000000</td>\n",
              "      <td>84869.000000</td>\n",
              "      <td>65968.000000</td>\n",
              "      <td>3.000000</td>\n",
              "      <td>3190.000000</td>\n",
              "      <td>3.000000</td>\n",
              "      <td>1344.000000</td>\n",
              "      <td>1580.000000</td>\n",
              "    </tr>\n",
              "  </tbody>\n",
              "</table>\n",
              "</div>"
            ],
            "text/plain": [
              "       total_images    last_price    total_area         rooms  ceiling_height  \\\n",
              "count  23699.000000  2.369900e+04  23699.000000  23699.000000    14504.000000   \n",
              "mean       9.858475  6.541549e+06     60.348651      2.070636        2.771499   \n",
              "std        5.682529  1.088701e+07     35.654083      1.078405        1.261056   \n",
              "min        0.000000  1.219000e+04     12.000000      0.000000        1.000000   \n",
              "25%        6.000000  3.400000e+06     40.000000      1.000000        2.520000   \n",
              "50%        9.000000  4.650000e+06     52.000000      2.000000        2.650000   \n",
              "75%       14.000000  6.800000e+06     69.900000      3.000000        2.800000   \n",
              "max       50.000000  7.630000e+08    900.000000     19.000000      100.000000   \n",
              "\n",
              "       floors_total   living_area         floor  kitchen_area       balcony  \\\n",
              "count  23613.000000  21796.000000  23699.000000  21421.000000  12180.000000   \n",
              "mean      10.673824     34.457852      5.892358     10.569807      1.150082   \n",
              "std        6.597173     22.030445      4.885249      5.905438      1.071300   \n",
              "min        1.000000      2.000000      1.000000      1.300000      0.000000   \n",
              "25%        5.000000     18.600000      2.000000      7.000000      0.000000   \n",
              "50%        9.000000     30.000000      4.000000      9.100000      1.000000   \n",
              "75%       16.000000     42.300000      8.000000     12.000000      2.000000   \n",
              "max       60.000000    409.700000     33.000000    112.000000      5.000000   \n",
              "\n",
              "       airports_nearest  cityCenters_nearest  parks_around3000  parks_nearest  \\\n",
              "count      18157.000000         18180.000000      18181.000000    8079.000000   \n",
              "mean       28793.672193         14191.277833          0.611408     490.804555   \n",
              "std        12630.880622          8608.386210          0.802074     342.317995   \n",
              "min            0.000000           181.000000          0.000000       1.000000   \n",
              "25%        18585.000000          9238.000000          0.000000     288.000000   \n",
              "50%        26726.000000         13098.500000          0.000000     455.000000   \n",
              "75%        37273.000000         16293.000000          1.000000     612.000000   \n",
              "max        84869.000000         65968.000000          3.000000    3190.000000   \n",
              "\n",
              "       ponds_around3000  ponds_nearest  days_exposition  \n",
              "count      18181.000000    9110.000000     20518.000000  \n",
              "mean           0.770255     517.980900       180.888634  \n",
              "std            0.938346     277.720643       219.727988  \n",
              "min            0.000000      13.000000         1.000000  \n",
              "25%            0.000000     294.000000        45.000000  \n",
              "50%            1.000000     502.000000        95.000000  \n",
              "75%            1.000000     729.000000       232.000000  \n",
              "max            3.000000    1344.000000      1580.000000  "
            ]
          },
          "metadata": {},
          "output_type": "display_data"
        }
      ],
      "source": [
        "df.describe()"
      ]
    },
    {
      "cell_type": "markdown",
      "metadata": {
        "cellId": "1ys8rrsknbaai36delqi1w",
        "id": "trK4JHoEohEh"
      },
      "source": [
        "Описание данных\n",
        "- `airports_nearest` — расстояние до ближайшего аэропорта в метрах (м)\n",
        "- `balcony` — число балконов\n",
        "- `ceiling_height` — высота потолков (м)\n",
        "- `cityCenters_nearest` — расстояние до центра города (м)\n",
        "- `days_exposition` — сколько дней было размещено объявление (от публикации до снятия)\n",
        "- `first_day_exposition` — дата публикации\n",
        "- `floor` — этаж\n",
        "- `floors_total` — всего этажей в доме\n",
        "- `is_apartment` — апартаменты (булев тип)\n",
        "- `kitchen_area` — площадь кухни в квадратных метрах (м²)\n",
        "- `last_price` — цена на момент снятия с публикации\n",
        "- `living_area` — жилая площадь в квадратных метрах (м²)\n",
        "- `locality_name` — название населённого пункта\n",
        "- `open_plan` — свободная планировка (булев тип)\n",
        "- `parks_around3000` — число парков в радиусе 3 км\n",
        "- `parks_nearest` — расстояние до ближайшего парка (м)\n",
        "- `ponds_around3000` — число водоёмов в радиусе 3 км\n",
        "- `ponds_nearest` — расстояние до ближайшего водоёма (м)\n",
        "- `rooms` — число комнат\n",
        "- `studio` — квартира-студия (булев тип)\n",
        "- `total_area` — площадь квартиры в квадратных метрах (м²)\n",
        "- `total_images` — число фотографий квартиры в объявлении"
      ]
    },
    {
      "cell_type": "markdown",
      "metadata": {
        "cellId": "nge25xdyhfsiths1fnb3df",
        "id": "YZAEgE5kohEk"
      },
      "source": [
        "### Вывод"
      ]
    },
    {
      "cell_type": "markdown",
      "metadata": {
        "cellId": "5nmrgp3ohauzsh3v6a5do",
        "id": "O24EYJiMohEl"
      },
      "source": [
        "В некоторых столбцах много пропущенных значений, встречаются аномольные значения, а также несоответствующий тип даных. Названия столбцов оставим без изменений."
      ]
    },
    {
      "cell_type": "markdown",
      "metadata": {
        "cellId": "7hwwiolzhpv27egf0g9m66",
        "id": "k5-O9YcPohEw"
      },
      "source": [
        "## Предобработка данных"
      ]
    },
    {
      "cell_type": "markdown",
      "metadata": {
        "cellId": "a5iue642rxifw230in6igb",
        "id": "ZWZBAJ1rohEy"
      },
      "source": [
        "### Обработка пропусков"
      ]
    },
    {
      "cell_type": "markdown",
      "metadata": {
        "cellId": "miclnj3n4umf5zz7i22vd",
        "id": "DSNIN9AfohE1"
      },
      "source": [
        "Посмотрим количество пропусков"
      ]
    },
    {
      "cell_type": "code",
      "execution_count": null,
      "metadata": {
        "cellId": "br4rlum6nmkqsdi7hkf7v",
        "id": "X7y3937sohE5",
        "outputId": "04bdc0cc-7d27-4603-88ad-57f4e2b8b435"
      },
      "outputs": [
        {
          "data": {
            "text/plain": [
              "total_images                0\n",
              "last_price                  0\n",
              "total_area                  0\n",
              "first_day_exposition        0\n",
              "rooms                       0\n",
              "ceiling_height           9195\n",
              "floors_total               86\n",
              "living_area              1903\n",
              "floor                       0\n",
              "is_apartment            20924\n",
              "studio                      0\n",
              "open_plan                   0\n",
              "kitchen_area             2278\n",
              "balcony                 11519\n",
              "locality_name              49\n",
              "airports_nearest         5542\n",
              "cityCenters_nearest      5519\n",
              "parks_around3000         5518\n",
              "parks_nearest           15620\n",
              "ponds_around3000         5518\n",
              "ponds_nearest           14589\n",
              "days_exposition          3181\n",
              "dtype: int64"
            ]
          },
          "metadata": {},
          "output_type": "display_data"
        }
      ],
      "source": [
        "df.isna().sum()"
      ]
    },
    {
      "cell_type": "code",
      "execution_count": null,
      "metadata": {
        "cellId": "c7kba9qzf5vrookupxzmb",
        "id": "sU9g1kTbohE8",
        "outputId": "e183e785-a62f-49ea-e4ff-4e25af0183b4"
      },
      "outputs": [
        {
          "data": {
            "text/plain": [
              "total_images             0.0\n",
              "last_price               0.0\n",
              "total_area               0.0\n",
              "first_day_exposition     0.0\n",
              "rooms                    0.0\n",
              "ceiling_height          38.8\n",
              "floors_total             0.4\n",
              "living_area              8.0\n",
              "floor                    0.0\n",
              "is_apartment            88.3\n",
              "studio                   0.0\n",
              "open_plan                0.0\n",
              "kitchen_area             9.6\n",
              "balcony                 48.6\n",
              "locality_name            0.2\n",
              "airports_nearest        23.4\n",
              "cityCenters_nearest     23.3\n",
              "parks_around3000        23.3\n",
              "parks_nearest           65.9\n",
              "ponds_around3000        23.3\n",
              "ponds_nearest           61.6\n",
              "days_exposition         13.4\n",
              "dtype: float64"
            ]
          },
          "metadata": {},
          "output_type": "display_data"
        }
      ],
      "source": [
        "(df.isna().mean()*100).round(1)"
      ]
    },
    {
      "cell_type": "markdown",
      "metadata": {
        "cellId": "kcggv4vs96r6qnl4a31zec",
        "id": "GxK4rQ7HohE_"
      },
      "source": [
        "Обработаем пропуски в столбце `balcony` — число балконов. Скорее всего в этих квартирах нет балконов. Заменим пропуски на ноль."
      ]
    },
    {
      "cell_type": "code",
      "execution_count": null,
      "metadata": {
        "cellId": "lgws3dhpmyesphjf9b6jxa",
        "id": "2r6stA8gohFB"
      },
      "outputs": [],
      "source": [
        "df['balcony'] = df['balcony'].fillna(0)"
      ]
    },
    {
      "cell_type": "code",
      "execution_count": null,
      "metadata": {
        "cellId": "87xifjsxch71rulqt08zau",
        "id": "XVzwL78tohFC",
        "outputId": "004e828e-ea29-46c8-d93c-ddac33d4dfee"
      },
      "outputs": [
        {
          "data": {
            "text/plain": [
              "0"
            ]
          },
          "metadata": {},
          "output_type": "display_data"
        }
      ],
      "source": [
        "df['balcony'].isna().sum()"
      ]
    },
    {
      "cell_type": "code",
      "execution_count": null,
      "metadata": {
        "cellId": "tmwb5iex14jp2o94idzlic",
        "id": "Ues-S2FPohFF",
        "outputId": "88da6b3a-9847-4f5e-da2f-a71fc9d59cf9"
      },
      "outputs": [
        {
          "data": {
            "text/plain": [
              "array([0., 2., 1., 5., 4., 3.])"
            ]
          },
          "metadata": {},
          "output_type": "display_data"
        }
      ],
      "source": [
        "df['balcony'].unique()"
      ]
    },
    {
      "cell_type": "markdown",
      "metadata": {
        "cellId": "42rdq2q71rxh288srfvmvn",
        "id": "efbahk6CohFH"
      },
      "source": [
        "Обработаем пропуски в столбце `is_apartment` — апартаменты. Скорее всего они обозначают, что это не аппартаменты. Заменим их на False."
      ]
    },
    {
      "cell_type": "code",
      "execution_count": null,
      "metadata": {
        "cellId": "ehpz0az4jfnj9gg27ih7ul",
        "id": "TTDo6ASRohFJ",
        "outputId": "44e37754-0a86-4db9-ee79-ae83d7551125"
      },
      "outputs": [
        {
          "data": {
            "text/plain": [
              "False    2725\n",
              "True       50\n",
              "Name: is_apartment, dtype: int64"
            ]
          },
          "metadata": {},
          "output_type": "display_data"
        }
      ],
      "source": [
        "df['is_apartment'].value_counts()"
      ]
    },
    {
      "cell_type": "code",
      "execution_count": null,
      "metadata": {
        "cellId": "dsd855t4cchxozunkpd1kp",
        "id": "lTiZfMuQohFL"
      },
      "outputs": [],
      "source": [
        "df['is_apartment'] = df['is_apartment'].fillna(False)"
      ]
    },
    {
      "cell_type": "code",
      "execution_count": null,
      "metadata": {
        "cellId": "ln89zqqk8pkclytqdwdver",
        "id": "D3vA4XbRohFM",
        "outputId": "68ede264-7c35-482f-e318-e6a4c29f4d7a"
      },
      "outputs": [
        {
          "data": {
            "text/plain": [
              "False    23649\n",
              "True        50\n",
              "Name: is_apartment, dtype: int64"
            ]
          },
          "metadata": {},
          "output_type": "display_data"
        }
      ],
      "source": [
        "df['is_apartment'].value_counts()"
      ]
    },
    {
      "cell_type": "markdown",
      "metadata": {
        "cellId": "io9yqnjmtn1frt0ql936o",
        "id": "kguA6x3QohFO"
      },
      "source": [
        "В столбце `rooms` — число комнат, если это студия заменим значение на ноль."
      ]
    },
    {
      "cell_type": "code",
      "execution_count": null,
      "metadata": {
        "cellId": "ra8xohgqhif143vtjrfojh",
        "id": "MaAY4U59ohFP"
      },
      "outputs": [],
      "source": [
        "df.loc[(df['studio'] == True) & df['rooms'] >= 1, 'rooms'] = 0"
      ]
    },
    {
      "cell_type": "markdown",
      "metadata": {
        "cellId": "14b1rro7a0xw3by6aknvdd",
        "id": "kPzmWdH9ohFQ"
      },
      "source": [
        "Обработаем столбец `locality_name` — название населённого пункта."
      ]
    },
    {
      "cell_type": "code",
      "execution_count": null,
      "metadata": {
        "cellId": "zdbpsl1xty9lxhxmvf5ave",
        "id": "uhwgFM5_ohFR",
        "outputId": "2c164aa6-a4f7-4e02-a46a-cfc54319f6a3"
      },
      "outputs": [
        {
          "data": {
            "text/plain": [
              "array(['Санкт-Петербург', 'посёлок Шушары', 'городской посёлок Янино-1',\n",
              "       'посёлок Парголово', 'посёлок Мурино', 'Ломоносов', 'Сертолово',\n",
              "       'Петергоф', 'Пушкин', 'деревня Кудрово', 'Коммунар', 'Колпино',\n",
              "       'поселок городского типа Красный Бор', 'Гатчина', 'поселок Мурино',\n",
              "       'деревня Фёдоровское', 'Выборг', 'Кронштадт', 'Кировск',\n",
              "       'деревня Новое Девяткино', 'посёлок Металлострой',\n",
              "       'посёлок городского типа Лебяжье',\n",
              "       'посёлок городского типа Сиверский', 'поселок Молодцово',\n",
              "       'поселок городского типа Кузьмоловский',\n",
              "       'садовое товарищество Новая Ропша', 'Павловск',\n",
              "       'деревня Пикколово', 'Всеволожск', 'Волхов', 'Кингисепп',\n",
              "       'Приозерск', 'Сестрорецк', 'деревня Куттузи', 'посёлок Аннино',\n",
              "       'поселок городского типа Ефимовский', 'посёлок Плодовое',\n",
              "       'деревня Заклинье', 'поселок Торковичи', 'поселок Первомайское',\n",
              "       'Красное Село', 'посёлок Понтонный', 'Сясьстрой', 'деревня Старая',\n",
              "       'деревня Лесколово', 'посёлок Новый Свет', 'Сланцы',\n",
              "       'село Путилово', 'Ивангород', 'Мурино', 'Шлиссельбург',\n",
              "       'Никольское', 'Зеленогорск', 'Сосновый Бор', 'поселок Новый Свет',\n",
              "       'деревня Оржицы', 'деревня Кальтино', 'Кудрово',\n",
              "       'поселок Романовка', 'посёлок Бугры', 'поселок Бугры',\n",
              "       'поселок городского типа Рощино', 'Кириши', 'Луга', 'Волосово',\n",
              "       'Отрадное', 'село Павлово', 'поселок Оредеж', 'село Копорье',\n",
              "       'посёлок городского типа Красный Бор', 'посёлок Молодёжное',\n",
              "       'Тихвин', 'посёлок Победа', 'деревня Нурма',\n",
              "       'поселок городского типа Синявино', 'Тосно',\n",
              "       'посёлок городского типа Кузьмоловский', 'посёлок Стрельна',\n",
              "       'Бокситогорск', 'посёлок Александровская', 'деревня Лопухинка',\n",
              "       'Пикалёво', 'поселок Терволово',\n",
              "       'поселок городского типа Советский', 'Подпорожье',\n",
              "       'посёлок Петровское', 'посёлок городского типа Токсово',\n",
              "       'поселок Сельцо', 'посёлок городского типа Вырица',\n",
              "       'деревня Кипень', 'деревня Келози', 'деревня Вартемяги',\n",
              "       'посёлок Тельмана', 'поселок Севастьяново',\n",
              "       'городской поселок Большая Ижора', nan,\n",
              "       'городской посёлок Павлово', 'деревня Агалатово',\n",
              "       'посёлок Новогорелово', 'городской посёлок Лесогорский',\n",
              "       'деревня Лаголово', 'поселок Цвелодубово',\n",
              "       'поселок городского типа Рахья', 'поселок городского типа Вырица',\n",
              "       'деревня Белогорка', 'поселок Заводской',\n",
              "       'городской посёлок Новоселье', 'деревня Большие Колпаны',\n",
              "       'деревня Горбунки', 'деревня Батово', 'деревня Заневка',\n",
              "       'деревня Иссад', 'Приморск', 'городской посёлок Фёдоровское',\n",
              "       'деревня Мистолово', 'Новая Ладога', 'поселок Зимитицы',\n",
              "       'поселок Барышево', 'деревня Разметелево',\n",
              "       'поселок городского типа имени Свердлова', 'деревня Пеники',\n",
              "       'поселок Рябово', 'деревня Пудомяги', 'поселок станции Корнево',\n",
              "       'деревня Низино', 'деревня Бегуницы', 'посёлок Поляны',\n",
              "       'городской посёлок Мга', 'поселок Елизаветино',\n",
              "       'посёлок городского типа Кузнечное', 'деревня Колтуши',\n",
              "       'поселок Запорожское', 'посёлок городского типа Рощино',\n",
              "       'деревня Гостилицы', 'деревня Малое Карлино',\n",
              "       'посёлок Мичуринское', 'посёлок городского типа имени Морозова',\n",
              "       'посёлок Песочный', 'посёлок Сосново', 'деревня Аро',\n",
              "       'поселок Ильичёво', 'посёлок городского типа Тайцы',\n",
              "       'деревня Малое Верево', 'деревня Извара', 'поселок станции Вещево',\n",
              "       'село Паша', 'деревня Калитино',\n",
              "       'посёлок городского типа Ульяновка', 'деревня Чудской Бор',\n",
              "       'поселок городского типа Дубровка', 'деревня Мины',\n",
              "       'поселок Войсковицы', 'посёлок городского типа имени Свердлова',\n",
              "       'деревня Коркино', 'посёлок Ропша',\n",
              "       'поселок городского типа Приладожский', 'посёлок Щеглово',\n",
              "       'посёлок Гаврилово', 'Лодейное Поле', 'деревня Рабитицы',\n",
              "       'поселок городского типа Никольский', 'деревня Кузьмолово',\n",
              "       'деревня Малые Колпаны', 'поселок Тельмана',\n",
              "       'посёлок Петро-Славянка', 'городской посёлок Назия',\n",
              "       'посёлок Репино', 'посёлок Ильичёво', 'поселок Углово',\n",
              "       'поселок Старая Малукса', 'садовое товарищество Рахья',\n",
              "       'поселок Аннино', 'поселок Победа', 'деревня Меньково',\n",
              "       'деревня Старые Бегуницы', 'посёлок Сапёрный', 'поселок Семрино',\n",
              "       'поселок Гаврилово', 'поселок Глажево', 'поселок Кобринское',\n",
              "       'деревня Гарболово', 'деревня Юкки',\n",
              "       'поселок станции Приветнинское', 'деревня Мануйлово',\n",
              "       'деревня Пчева', 'поселок Поляны', 'поселок Цвылёво',\n",
              "       'поселок Мельниково', 'посёлок Пудость', 'посёлок Усть-Луга',\n",
              "       'Светогорск', 'Любань', 'поселок Селезнёво',\n",
              "       'поселок городского типа Рябово', 'Каменногорск', 'деревня Кривко',\n",
              "       'поселок Глебычево', 'деревня Парицы', 'поселок Жилпосёлок',\n",
              "       'посёлок городского типа Мга', 'городской поселок Янино-1',\n",
              "       'посёлок Войскорово', 'село Никольское', 'посёлок Терволово',\n",
              "       'поселок Стеклянный', 'посёлок городского типа Важины',\n",
              "       'посёлок Мыза-Ивановка', 'село Русско-Высоцкое',\n",
              "       'поселок городского типа Лебяжье',\n",
              "       'поселок городского типа Форносово', 'село Старая Ладога',\n",
              "       'поселок Житково', 'городской посёлок Виллози', 'деревня Лампово',\n",
              "       'деревня Шпаньково', 'деревня Лаврики', 'посёлок Сумино',\n",
              "       'посёлок Возрождение', 'деревня Старосиверская',\n",
              "       'посёлок Кикерино', 'поселок Возрождение',\n",
              "       'деревня Старое Хинколово', 'посёлок Пригородный',\n",
              "       'посёлок Торфяное', 'городской посёлок Будогощь',\n",
              "       'поселок Суходолье', 'поселок Красная Долина', 'деревня Хапо-Ое',\n",
              "       'поселок городского типа Дружная Горка', 'поселок Лисий Нос',\n",
              "       'деревня Яльгелево', 'посёлок Стеклянный', 'село Рождествено',\n",
              "       'деревня Старополье', 'посёлок Левашово', 'деревня Сяськелево',\n",
              "       'деревня Камышовка',\n",
              "       'садоводческое некоммерческое товарищество Лесная Поляна',\n",
              "       'деревня Хязельки', 'поселок Жилгородок',\n",
              "       'посёлок городского типа Павлово', 'деревня Ялгино',\n",
              "       'поселок Новый Учхоз', 'городской посёлок Рощино',\n",
              "       'поселок Гончарово', 'поселок Почап', 'посёлок Сапёрное',\n",
              "       'посёлок Платформа 69-й километр', 'поселок Каложицы',\n",
              "       'деревня Фалилеево', 'деревня Пельгора',\n",
              "       'поселок городского типа Лесогорский', 'деревня Торошковичи',\n",
              "       'посёлок Белоостров', 'посёлок Алексеевка', 'поселок Серебрянский',\n",
              "       'поселок Лукаши', 'поселок Петровское', 'деревня Щеглово',\n",
              "       'поселок Мичуринское', 'деревня Тарасово', 'поселок Кингисеппский',\n",
              "       'посёлок при железнодорожной станции Вещево', 'поселок Ушаки',\n",
              "       'деревня Котлы', 'деревня Сижно', 'деревня Торосово',\n",
              "       'посёлок Форт Красная Горка', 'поселок городского типа Токсово',\n",
              "       'деревня Новолисино', 'посёлок станции Громово', 'деревня Глинка',\n",
              "       'посёлок Мельниково', 'поселок городского типа Назия',\n",
              "       'деревня Старая Пустошь', 'поселок Коммунары', 'поселок Починок',\n",
              "       'посёлок городского типа Вознесенье', 'деревня Разбегаево',\n",
              "       'посёлок городского типа Рябово', 'поселок Гладкое',\n",
              "       'посёлок при железнодорожной станции Приветнинское',\n",
              "       'поселок Тёсово-4', 'посёлок Жилгородок', 'деревня Бор',\n",
              "       'посёлок Коробицыно', 'деревня Большая Вруда', 'деревня Курковицы',\n",
              "       'посёлок Лисий Нос', 'городской посёлок Советский',\n",
              "       'посёлок Кобралово', 'деревня Суоранда', 'поселок Кобралово',\n",
              "       'поселок городского типа Кондратьево',\n",
              "       'коттеджный поселок Счастье', 'поселок Любань', 'деревня Реброво',\n",
              "       'деревня Зимитицы', 'деревня Тойворово', 'поселок Семиозерье',\n",
              "       'поселок Лесное', 'поселок Совхозный', 'поселок Усть-Луга',\n",
              "       'посёлок Ленинское', 'посёлок Суйда',\n",
              "       'посёлок городского типа Форносово', 'деревня Нижние Осельки',\n",
              "       'посёлок станции Свирь', 'поселок Перово', 'Высоцк',\n",
              "       'поселок Гарболово', 'село Шум', 'поселок Котельский',\n",
              "       'поселок станции Лужайка', 'деревня Большая Пустомержа',\n",
              "       'поселок Красносельское', 'деревня Вахнова Кара', 'деревня Пижма',\n",
              "       'коттеджный поселок Кивеннапа Север', 'поселок Коробицыно',\n",
              "       'поселок Ромашки', 'посёлок Перово', 'деревня Каськово',\n",
              "       'деревня Куровицы', 'посёлок Плоское', 'поселок Сумино',\n",
              "       'поселок городского типа Большая Ижора', 'поселок Кирпичное',\n",
              "       'деревня Ям-Тесово', 'деревня Раздолье', 'деревня Терпилицы',\n",
              "       'посёлок Шугозеро', 'деревня Ваганово', 'поселок Пушное',\n",
              "       'садовое товарищество Садко', 'посёлок Усть-Ижора',\n",
              "       'деревня Выскатка', 'городской посёлок Свирьстрой',\n",
              "       'поселок Громово', 'деревня Кисельня', 'посёлок Старая Малукса',\n",
              "       'деревня Трубников Бор', 'поселок Калитино',\n",
              "       'посёлок Высокоключевой', 'садовое товарищество Приладожский',\n",
              "       'посёлок Пансионат Зелёный Бор', 'деревня Ненимяки',\n",
              "       'поселок Пансионат Зелёный Бор', 'деревня Снегирёвка',\n",
              "       'деревня Рапполово', 'деревня Пустынка', 'поселок Рабитицы',\n",
              "       'деревня Большой Сабск', 'деревня Русско', 'деревня Лупполово',\n",
              "       'деревня Большое Рейзино', 'деревня Малая Романовка',\n",
              "       'поселок Дружноселье', 'поселок Пчевжа', 'поселок Володарское',\n",
              "       'деревня Нижняя', 'коттеджный посёлок Лесное', 'деревня Тихковицы',\n",
              "       'деревня Борисова Грива', 'посёлок Дзержинского'], dtype=object)"
            ]
          },
          "metadata": {},
          "output_type": "display_data"
        }
      ],
      "source": [
        "df['locality_name'].unique()"
      ]
    },
    {
      "cell_type": "markdown",
      "metadata": {
        "cellId": "z5qvzm4g68smb9cykkfzab",
        "id": "3mWVTBF_ohFT"
      },
      "source": [
        "Пропуски заменим на \"неизвестно\", приведем все буквы к нижнему регистру, букву \"ё\" заменим на букву \"е\", уберем тип населенного пункта."
      ]
    },
    {
      "cell_type": "code",
      "execution_count": null,
      "metadata": {
        "cellId": "pno545sxdqzzjgaev69c",
        "id": "SJ7cTY2tohFV",
        "outputId": "51134a14-0658-4254-feb3-8af525cc8a25"
      },
      "outputs": [
        {
          "data": {
            "text/plain": [
              "0"
            ]
          },
          "metadata": {},
          "output_type": "display_data"
        }
      ],
      "source": [
        "df['locality_name'] = df['locality_name'].fillna('неизвестно')\n",
        "df['locality_name'].isna().sum()"
      ]
    },
    {
      "cell_type": "code",
      "execution_count": null,
      "metadata": {
        "cellId": "8iwzajmkx3y6a67w9h5ey",
        "id": "EFxH9xfoohFX"
      },
      "outputs": [],
      "source": [
        "df['locality_name'] = df['locality_name'].str.lower()\n",
        "df['locality_name'] = df['locality_name'].str.replace('ё', 'е')\n",
        "\n",
        "def replace_locality_name(name):\n",
        "    for name in names:\n",
        "        df['locality_name'] = df['locality_name'].str.replace(name, '')\n",
        "\n",
        "names = ['поселок ', 'городской ', 'городского типа ', 'при железнодорожной станции ', 'коттеджный ', 'деревня ',\n",
        "         'садовое товарищество ', 'садоводческое некоммерческое товарищество ', 'село ',]\n",
        "\n",
        "replace_locality_name(names)"
      ]
    },
    {
      "cell_type": "code",
      "execution_count": null,
      "metadata": {
        "cellId": "1zj86ftl0kppas9huaeka",
        "id": "-zS7xUE_ohFZ",
        "outputId": "3189e0ed-2df5-4864-e5de-bc1ab001fcbe"
      },
      "outputs": [
        {
          "data": {
            "text/plain": [
              "array(['санкт-петербург', 'шушары', 'янино-1', 'парголово', 'мурино',\n",
              "       'ломоносов', 'сертолово', 'петергоф', 'пушкин', 'кудрово',\n",
              "       'коммунар', 'колпино', 'красный бор', 'гатчина', 'федоровское',\n",
              "       'выборг', 'кронштадт', 'кировск', 'новое девяткино',\n",
              "       'металлострой', 'лебяжье', 'сиверский', 'молодцово',\n",
              "       'кузьмоловский', 'новая ропша', 'павловск', 'пикколово',\n",
              "       'всеволожск', 'волхов', 'кингисепп', 'приозерск', 'сестрорецк',\n",
              "       'куттузи', 'аннино', 'ефимовский', 'плодовое', 'заклинье',\n",
              "       'торковичи', 'первомайское', 'красное село', 'понтонный',\n",
              "       'сясьстрой', 'старая', 'лесколово', 'новый свет', 'сланцы',\n",
              "       'путилово', 'ивангород', 'шлиссельбург', 'никольское',\n",
              "       'зеленогорск', 'сосновый бор', 'оржицы', 'кальтино', 'романовка',\n",
              "       'бугры', 'рощино', 'кириши', 'луга', 'волосово', 'отрадное',\n",
              "       'павлово', 'оредеж', 'копорье', 'молодежное', 'тихвин', 'победа',\n",
              "       'нурма', 'синявино', 'тосно', 'стрельна', 'бокситогорск',\n",
              "       'александровская', 'лопухинка', 'пикалево', 'терволово',\n",
              "       'советский', 'подпорожье', 'петровское', 'токсово', 'сельцо',\n",
              "       'вырица', 'кипень', 'келози', 'вартемяги', 'тельмана',\n",
              "       'севастьяново', 'большая ижора', 'неизвестно', 'агалатово',\n",
              "       'новогорелово', 'лесогорский', 'лаголово', 'цвелодубово', 'рахья',\n",
              "       'белогорка', 'заводской', 'новоселье', 'большие колпаны',\n",
              "       'горбунки', 'батово', 'заневка', 'иссад', 'приморск', 'мистолово',\n",
              "       'новая ладога', 'зимитицы', 'барышево', 'разметелево',\n",
              "       'имени свердлова', 'пеники', 'рябово', 'пудомяги',\n",
              "       'станции корнево', 'низино', 'бегуницы', 'поляны', 'мга',\n",
              "       'елизаветино', 'кузнечное', 'колтуши', 'запорожское', 'гостилицы',\n",
              "       'малое карлино', 'мичуринское', 'имени морозова', 'песочный',\n",
              "       'сосново', 'аро', 'ильичево', 'тайцы', 'малое верево', 'извара',\n",
              "       'станции вещево', 'паша', 'калитино', 'ульяновка', 'чудской бор',\n",
              "       'дубровка', 'мины', 'войсковицы', 'коркино', 'ропша',\n",
              "       'приладожский', 'щеглово', 'гаврилово', 'лодейное поле',\n",
              "       'рабитицы', 'никольский', 'кузьмолово', 'малые колпаны',\n",
              "       'петро-славянка', 'назия', 'репино', 'углово', 'старая малукса',\n",
              "       'меньково', 'старые бегуницы', 'саперный', 'семрино', 'глажево',\n",
              "       'кобринское', 'гарболово', 'юкки', 'станции приветнинское',\n",
              "       'мануйлово', 'пчева', 'цвылево', 'мельниково', 'пудость',\n",
              "       'усть-луга', 'светогорск', 'любань', 'селезнево', 'каменногорск',\n",
              "       'кривко', 'глебычево', 'парицы', 'жилпоселок', 'войскорово',\n",
              "       'стеклянный', 'важины', 'мыза-ивановка', 'русско-высоцкое',\n",
              "       'форносово', 'старая ладога', 'житково', 'виллози', 'лампово',\n",
              "       'шпаньково', 'лаврики', 'сумино', 'возрождение', 'старосиверская',\n",
              "       'кикерино', 'старое хинколово', 'пригородный', 'торфяное',\n",
              "       'будогощь', 'суходолье', 'красная долина', 'хапо-ое',\n",
              "       'дружная горка', 'лисий нос', 'яльгелево', 'рождествено',\n",
              "       'старополье', 'левашово', 'сяськелево', 'камышовка',\n",
              "       'лесная поляна', 'хязельки', 'жилгородок', 'ялгино', 'новый учхоз',\n",
              "       'гончарово', 'почап', 'саперное', 'платформа 69-й километр',\n",
              "       'каложицы', 'фалилеево', 'пельгора', 'торошковичи', 'белоостров',\n",
              "       'алексеевка', 'серебрянский', 'лукаши', 'тарасово',\n",
              "       'кингисеппский', 'вещево', 'ушаки', 'котлы', 'сижно', 'торосово',\n",
              "       'форт красная горка', 'новолисино', 'станции громово', 'глинка',\n",
              "       'старая пустошь', 'коммунары', 'починок', 'вознесенье',\n",
              "       'разбегаево', 'гладкое', 'приветнинское', 'тесово-4', 'бор',\n",
              "       'коробицыно', 'большая вруда', 'курковицы', 'кобралово',\n",
              "       'суоранда', 'кондратьево', 'счастье', 'реброво', 'тойворово',\n",
              "       'семиозерье', 'лесное', 'совхозный', 'ленинское', 'суйда',\n",
              "       'нижние осельки', 'станции свирь', 'перово', 'высоцк', 'шум',\n",
              "       'котельский', 'станции лужайка', 'большая пустомержа',\n",
              "       'красносельское', 'вахнова кара', 'пижма', 'кивеннапа север',\n",
              "       'ромашки', 'каськово', 'куровицы', 'плоское', 'кирпичное',\n",
              "       'ям-тесово', 'раздолье', 'терпилицы', 'шугозеро', 'ваганово',\n",
              "       'пушное', 'садко', 'усть-ижора', 'выскатка', 'свирьстрой',\n",
              "       'громово', 'кисельня', 'трубников бор', 'высокоключевой',\n",
              "       'пансионат зеленый бор', 'ненимяки', 'снегиревка', 'рапполово',\n",
              "       'пустынка', 'большой сабск', 'русско', 'лупполово',\n",
              "       'большое рейзино', 'малая романовка', 'дружноселье', 'пчевжа',\n",
              "       'володарское', 'нижняя', 'тихковицы', 'борисова грива',\n",
              "       'дзержинского'], dtype=object)"
            ]
          },
          "metadata": {},
          "output_type": "display_data"
        }
      ],
      "source": [
        "df['locality_name'].unique()"
      ]
    },
    {
      "cell_type": "markdown",
      "metadata": {
        "cellId": "3mgrqy60hwn8u7i8md016n",
        "id": "-hDCIOuOohF3"
      },
      "source": [
        "Для того чтобы заполнить пропуски в столбцах — высота потолков, жилая площадь и площадь кухни, разобьем общую площадь на категории и создадим столбец `total_area_category` — категории общей площади, т.к. значения в этих столбцах зависят от значения общей площади."
      ]
    },
    {
      "cell_type": "code",
      "execution_count": null,
      "metadata": {
        "cellId": "fnwjr3qy1p6aglj1lig3h",
        "id": "UAJkv4QJohF4"
      },
      "outputs": [],
      "source": [
        "def total_area_categorizations(df):\n",
        "    if df['total_area'] <= 50:\n",
        "        return 0\n",
        "    elif df['total_area'] <= 100:\n",
        "        return 1\n",
        "    elif df['total_area'] <= 150:\n",
        "        return 2\n",
        "    elif df['total_area'] <= 200:\n",
        "        return 3\n",
        "    elif df['total_area'] > 200:\n",
        "        return 4\n",
        "df['total_area_category'] = df.apply(total_area_categorizations, axis = 1)"
      ]
    },
    {
      "cell_type": "markdown",
      "metadata": {
        "cellId": "55njbtn17dxt6c3wkx15aq",
        "id": "6-Muat0eohF6"
      },
      "source": [
        "Заполним пропуски в столбце `ceiling_height` — высота потолков. Будем заполнять медианным значением в зависимости от общей площади, населенного пункта, числа комнат и числа этажей в доме."
      ]
    },
    {
      "cell_type": "code",
      "execution_count": null,
      "metadata": {
        "cellId": "h32k89x4cpuui4idf0qnng",
        "id": "O97jPfMKohF7",
        "outputId": "bf24dbb9-52d1-40d3-b7e4-7e02002d7946"
      },
      "outputs": [
        {
          "data": {
            "text/plain": [
              "1062"
            ]
          },
          "metadata": {},
          "output_type": "display_data"
        }
      ],
      "source": [
        "df['ceiling_height'] = df['ceiling_height'].fillna(df.groupby(['total_area_category', 'locality_name', 'rooms', 'floors_total'])['ceiling_height'].transform('median'))\n",
        "df['ceiling_height'].isna().sum()"
      ]
    },
    {
      "cell_type": "code",
      "execution_count": null,
      "metadata": {
        "cellId": "f3jihi8k0apgwoygq43qll",
        "id": "c3zuaAjEohF9",
        "outputId": "f6baf7b6-1bc6-4ad2-cf32-4043fca94d12"
      },
      "outputs": [
        {
          "data": {
            "text/plain": [
              "156"
            ]
          },
          "metadata": {},
          "output_type": "display_data"
        }
      ],
      "source": [
        "df['ceiling_height'] = df['ceiling_height'].fillna(df.groupby(['total_area_category', 'rooms', 'floors_total'])['ceiling_height'].transform('median'))\n",
        "df['ceiling_height'].isna().sum()"
      ]
    },
    {
      "cell_type": "code",
      "execution_count": null,
      "metadata": {
        "cellId": "7dhkw9sofrd3uv44upji6n",
        "id": "KR2tcb6DohF_",
        "outputId": "b18c2cc5-d844-4bdd-96bb-9dd053c38cef"
      },
      "outputs": [
        {
          "data": {
            "text/plain": [
              "2"
            ]
          },
          "metadata": {},
          "output_type": "display_data"
        }
      ],
      "source": [
        "df['ceiling_height'] = df['ceiling_height'].fillna(df.groupby(['total_area_category', 'rooms'])['ceiling_height'].transform('median'))\n",
        "df['ceiling_height'].isna().sum()"
      ]
    },
    {
      "cell_type": "code",
      "execution_count": null,
      "metadata": {
        "cellId": "sbj99ax9dwckvosv6njem",
        "id": "bbeAMVFGohGA",
        "outputId": "0f373cb2-3acf-41d4-e155-b6e74e5169a6"
      },
      "outputs": [
        {
          "data": {
            "text/plain": [
              "0"
            ]
          },
          "metadata": {},
          "output_type": "display_data"
        }
      ],
      "source": [
        "df['ceiling_height'] = df['ceiling_height'].fillna(df.groupby(['total_area_category'])['ceiling_height'].transform('median'))\n",
        "df['ceiling_height'].isna().sum()"
      ]
    },
    {
      "cell_type": "markdown",
      "metadata": {
        "cellId": "sq6hrznddp80czyowc8e",
        "id": "rbTUvhhqohGB"
      },
      "source": [
        "Заполним пропуски в столбце `living_area` — жилая площадь. Будем заполнять медианным значением в зависимости от общей площади, населенного пункта и числа комнат."
      ]
    },
    {
      "cell_type": "code",
      "execution_count": null,
      "metadata": {
        "cellId": "ngqe7whg6md613hhpd8fh",
        "id": "Kxu38asiohGC",
        "outputId": "e8f2154d-fe27-402e-ef9d-66b09a0abe2c"
      },
      "outputs": [
        {
          "data": {
            "text/plain": [
              "72"
            ]
          },
          "metadata": {},
          "output_type": "display_data"
        }
      ],
      "source": [
        "df['living_area'] = df['living_area'].fillna(df.groupby(['total_area_category', 'locality_name', 'rooms'])['living_area'].transform('median'))\n",
        "df['living_area'].isna().sum()"
      ]
    },
    {
      "cell_type": "code",
      "execution_count": null,
      "metadata": {
        "cellId": "yxe8shjp37p8wy5yeztglc",
        "id": "tEFFPDyPohGF",
        "outputId": "efbe9347-f485-47c2-a354-882348b9f5ca"
      },
      "outputs": [
        {
          "data": {
            "text/plain": [
              "2"
            ]
          },
          "metadata": {},
          "output_type": "display_data"
        }
      ],
      "source": [
        "df['living_area'] = df['living_area'].fillna(df.groupby(['total_area_category', 'rooms'])['living_area'].transform('median'))\n",
        "df['living_area'].isna().sum()"
      ]
    },
    {
      "cell_type": "code",
      "execution_count": null,
      "metadata": {
        "cellId": "qhcy5ozwd2sjozma564gr",
        "id": "hqheL3wbohGJ",
        "outputId": "e39c8a5b-dd68-4be4-901d-975ebdda6e9d"
      },
      "outputs": [
        {
          "data": {
            "text/plain": [
              "0"
            ]
          },
          "metadata": {},
          "output_type": "display_data"
        }
      ],
      "source": [
        "df['living_area'] = df['living_area'].fillna(df.groupby(['total_area_category'])['living_area'].transform('median'))\n",
        "df['living_area'].isna().sum()"
      ]
    },
    {
      "cell_type": "markdown",
      "metadata": {
        "cellId": "1ep1rjydqeji4le58c37n",
        "id": "n8PGS3iHohGK"
      },
      "source": [
        "Заполним пропуски в столбце `kitchen_area` — площадь кухни. Будем заполнять медианным значением в зависимости от общей площади, населенного пункта и числа комнат."
      ]
    },
    {
      "cell_type": "code",
      "execution_count": null,
      "metadata": {
        "cellId": "c8h18ebr2hey1sq805ijph",
        "id": "jZiebT-xohGL",
        "outputId": "dc5f3327-d372-47de-bd47-56ed2f559b08"
      },
      "outputs": [
        {
          "data": {
            "text/plain": [
              "273"
            ]
          },
          "metadata": {},
          "output_type": "display_data"
        }
      ],
      "source": [
        "df['kitchen_area'] = df['kitchen_area'].fillna(df.groupby(['total_area_category', 'locality_name', 'rooms'])['kitchen_area'].transform('median'))\n",
        "df['kitchen_area'].isna().sum()"
      ]
    },
    {
      "cell_type": "code",
      "execution_count": null,
      "metadata": {
        "cellId": "idz2e8vx7do7va50dbhr3d",
        "id": "e3wOPezBohGM",
        "outputId": "577db8bc-f036-4853-b820-d71733e460ac"
      },
      "outputs": [
        {
          "data": {
            "text/plain": [
              "209"
            ]
          },
          "metadata": {},
          "output_type": "display_data"
        }
      ],
      "source": [
        "df['kitchen_area'] = df['kitchen_area'].fillna(df.groupby(['total_area_category', 'rooms'])['kitchen_area'].transform('median'))\n",
        "df['kitchen_area'].isna().sum()"
      ]
    },
    {
      "cell_type": "code",
      "execution_count": null,
      "metadata": {
        "cellId": "i46sdhkpy7zlammn616nl",
        "id": "peEbJSw_ohGN",
        "outputId": "faa8c5e3-685b-4c24-eb8f-98aa0ffa59ea"
      },
      "outputs": [
        {
          "data": {
            "text/plain": [
              "0"
            ]
          },
          "metadata": {},
          "output_type": "display_data"
        }
      ],
      "source": [
        "df['kitchen_area'] = df['kitchen_area'].fillna(df.groupby(['total_area_category'])['kitchen_area'].transform('median'))\n",
        "df['kitchen_area'].isna().sum()"
      ]
    },
    {
      "cell_type": "markdown",
      "metadata": {
        "cellId": "20s6d3lqhurpuwrwgzvvvm",
        "id": "7uKz0QOiohGP"
      },
      "source": [
        "В остальных столбцах столбцах заполнитять пропуски логически возможными значениями нецелесообразно. В некоторых столбцах пропуски вызваны человеческим фактором, у продавцов видимо отсутствует информация. В некоторых — техническими проблемами, например расстояния."
      ]
    },
    {
      "cell_type": "markdown",
      "metadata": {
        "cellId": "pz6dvaehvouu7ipunl7c",
        "id": "Xzv78pG7ohGP"
      },
      "source": [
        "### Приведение данных к нужным типам"
      ]
    },
    {
      "cell_type": "markdown",
      "metadata": {
        "cellId": "zlqxjfubq9ads7zrnco6yi",
        "id": "arHGvfa2ohGQ"
      },
      "source": [
        "Обработаем столбец `first_day_exposition` — дата публикации, приведем данные к типу datetime, чтобы было удобнее работать со временем."
      ]
    },
    {
      "cell_type": "code",
      "execution_count": null,
      "metadata": {
        "cellId": "gvhzyuh9l2p4ewa8bx6t4f",
        "id": "vspNQl61ohGR"
      },
      "outputs": [],
      "source": [
        "df['first_day_exposition'] = pd.to_datetime(df['first_day_exposition'], format=\"%Y-%m-%dT%H:%M:%S\")"
      ]
    },
    {
      "cell_type": "markdown",
      "metadata": {
        "cellId": "vhcsc3avig16dzbjjs6dx",
        "id": "aTAXPKuvohGS"
      },
      "source": [
        "Приведем данные в столбцах которые не подразумевают дробной части к целочисленному типу типу."
      ]
    },
    {
      "cell_type": "code",
      "execution_count": null,
      "metadata": {
        "cellId": "3hndyid8on45vr3l1c2m1b",
        "id": "gyY4tCWGohGS"
      },
      "outputs": [],
      "source": [
        "df[['last_price', 'floors_total', 'balcony', 'cityCenters_nearest', 'airports_nearest', 'parks_around3000', 'parks_nearest', 'ponds_around3000',\n",
        "    'ponds_nearest', 'days_exposition',]] = df[['last_price', 'floors_total', 'balcony', 'cityCenters_nearest', 'airports_nearest', 'parks_around3000',\n",
        "                                                'parks_nearest', 'ponds_around3000', 'ponds_nearest', 'days_exposition']].round().astype('Int64')"
      ]
    },
    {
      "cell_type": "code",
      "execution_count": null,
      "metadata": {
        "cellId": "hj3xz56027fsq4ez1g34ec",
        "id": "2EmncN57ohGU",
        "outputId": "256cc160-820d-4d3c-8362-f45321223970"
      },
      "outputs": [
        {
          "name": "stdout",
          "output_type": "stream",
          "text": [
            "<class 'pandas.core.frame.DataFrame'>\n",
            "RangeIndex: 23699 entries, 0 to 23698\n",
            "Data columns (total 23 columns):\n",
            "total_images            23699 non-null int64\n",
            "last_price              23699 non-null Int64\n",
            "total_area              23699 non-null float64\n",
            "first_day_exposition    23699 non-null datetime64[ns]\n",
            "rooms                   23699 non-null int64\n",
            "ceiling_height          23699 non-null float64\n",
            "floors_total            23613 non-null Int64\n",
            "living_area             23699 non-null float64\n",
            "floor                   23699 non-null int64\n",
            "is_apartment            23699 non-null bool\n",
            "studio                  23699 non-null bool\n",
            "open_plan               23699 non-null bool\n",
            "kitchen_area            23699 non-null float64\n",
            "balcony                 23699 non-null Int64\n",
            "locality_name           23699 non-null object\n",
            "airports_nearest        18157 non-null Int64\n",
            "cityCenters_nearest     18180 non-null Int64\n",
            "parks_around3000        18181 non-null Int64\n",
            "parks_nearest           8079 non-null Int64\n",
            "ponds_around3000        18181 non-null Int64\n",
            "ponds_nearest           9110 non-null Int64\n",
            "days_exposition         20518 non-null Int64\n",
            "total_area_category     23699 non-null int64\n",
            "dtypes: Int64(10), bool(3), datetime64[ns](1), float64(4), int64(4), object(1)\n",
            "memory usage: 3.9+ MB\n"
          ]
        }
      ],
      "source": [
        "df.info()"
      ]
    },
    {
      "cell_type": "markdown",
      "metadata": {
        "cellId": "g24b1reua6kpuxp2qcj1pr",
        "id": "LDAAfWaWohGV"
      },
      "source": [
        "Проверим на дубликаты."
      ]
    },
    {
      "cell_type": "code",
      "execution_count": null,
      "metadata": {
        "cellId": "jmsaj12o9pbeq0zbzzrh4",
        "id": "kFujupGUohGW",
        "outputId": "2e4d0088-f7de-4af9-e575-31a30cdacd96"
      },
      "outputs": [
        {
          "name": "stdout",
          "output_type": "stream",
          "text": [
            "Количество дубликатов: 0\n"
          ]
        }
      ],
      "source": [
        "print('Количество дубликатов:', df.duplicated().sum())"
      ]
    },
    {
      "cell_type": "markdown",
      "metadata": {
        "cellId": "gn98e1u0pnm2sjhbu2vnc8",
        "id": "Yjy-FaEvohGY"
      },
      "source": [
        "## Расчёты и добавление результатов в таблицу"
      ]
    },
    {
      "cell_type": "markdown",
      "metadata": {
        "cellId": "i9n0tbf9uakgl17xt061",
        "id": "AOGZ-9_BohGZ"
      },
      "source": [
        "Добавим столбец `price_square_meter` — цена квадратного метра."
      ]
    },
    {
      "cell_type": "code",
      "execution_count": null,
      "metadata": {
        "cellId": "0l9lyom5l8j4giqhpk9mmu",
        "id": "jVTHnR6mohGZ"
      },
      "outputs": [],
      "source": [
        "df['price_square_meter'] = df['last_price'] / df['total_area']\n",
        "df['price_square_meter'] = df['price_square_meter'].round().astype('Int64')"
      ]
    },
    {
      "cell_type": "markdown",
      "metadata": {
        "cellId": "ft9iaqy6s7e7nu6k2np5o",
        "id": "ADUJ0xpVohGa"
      },
      "source": [
        "Добавим столбец `weekday_exposition` — день недели публикации объявления."
      ]
    },
    {
      "cell_type": "code",
      "execution_count": null,
      "metadata": {
        "cellId": "74dg4piey2s2hzzvv0pnsi",
        "id": "aPX1W33pohGa"
      },
      "outputs": [],
      "source": [
        "df['weekday_exposition'] = df['first_day_exposition'].dt.weekday"
      ]
    },
    {
      "cell_type": "markdown",
      "metadata": {
        "cellId": "3v6ekzj2w5ob3fhmufvouk",
        "id": "TniyzpRDohGb"
      },
      "source": [
        "Добавим столбец `month_exposition` — месяц публикации объявления."
      ]
    },
    {
      "cell_type": "code",
      "execution_count": null,
      "metadata": {
        "cellId": "lae41lz4quizlp3il38gla",
        "id": "rx4SyC--ohGb"
      },
      "outputs": [],
      "source": [
        "df['month_exposition'] = df['first_day_exposition'].dt.month"
      ]
    },
    {
      "cell_type": "markdown",
      "metadata": {
        "cellId": "wyt7p4gpiw7c4zyrganw2u",
        "id": "iAV4LnProhGc"
      },
      "source": [
        "Добавим столбец `year_exposition` — год публикации объявления."
      ]
    },
    {
      "cell_type": "code",
      "execution_count": null,
      "metadata": {
        "cellId": "r6yayvi38vrhdnqtsj70n",
        "id": "14hIb71eohGd"
      },
      "outputs": [],
      "source": [
        "df['year_exposition'] = df['first_day_exposition'].dt.year"
      ]
    },
    {
      "cell_type": "markdown",
      "metadata": {
        "cellId": "12ekab2n9bxr22sdsfc5frp",
        "id": "1vJCTPVMohGd"
      },
      "source": [
        "Добавим столбец `floor_category` — категория этажности (первый, последний, другой)."
      ]
    },
    {
      "cell_type": "code",
      "execution_count": null,
      "metadata": {
        "cellId": "hoqixhkybiagu6tsw7ksn4",
        "id": "NeYbJ7xRohGe"
      },
      "outputs": [],
      "source": [
        "def floor_categorizations(df):\n",
        "    if df['floor'] == 1:\n",
        "        return 'первый'\n",
        "    elif (df['floor'] == df['floors_total']) & (df['floor'] != 1):\n",
        "        return 'последний'\n",
        "    else:\n",
        "        return 'другой'\n",
        "df['floor_category'] = df.apply(floor_categorizations, axis = 1)"
      ]
    },
    {
      "cell_type": "markdown",
      "metadata": {
        "cellId": "7udaa5lfqeqfikf62e2hlu",
        "id": "2pWUFV3JohGf"
      },
      "source": [
        "Добавим столбец `ratio_living_area` — соотношение жилой и общей площади."
      ]
    },
    {
      "cell_type": "code",
      "execution_count": null,
      "metadata": {
        "cellId": "y6fy09kti0l42l9ewtc44n",
        "id": "vejNW_lQohGf"
      },
      "outputs": [],
      "source": [
        "df['ratio_living_area'] = df['living_area'] / df['total_area']"
      ]
    },
    {
      "cell_type": "markdown",
      "metadata": {
        "cellId": "ntqddfk6cbsbyt4q1pm4",
        "id": "dO4PS3CUohGg"
      },
      "source": [
        "Добавим столбец `ratio_kitchen_area` — соотношение площади кухни и общей площади."
      ]
    },
    {
      "cell_type": "code",
      "execution_count": null,
      "metadata": {
        "cellId": "vk90ib1v8zgfq1hh340ucp",
        "id": "ME38RZo8ohGg"
      },
      "outputs": [],
      "source": [
        "df['ratio_kitchen_area'] = df['kitchen_area'] / df['total_area']"
      ]
    },
    {
      "cell_type": "code",
      "execution_count": null,
      "metadata": {
        "cellId": "wks88442inn6eq7yvm8x8",
        "id": "cZZzlsKdohGh",
        "outputId": "2e78f6b8-5df0-4cf2-c466-036d94429314"
      },
      "outputs": [
        {
          "data": {
            "text/html": [
              "<div>\n",
              "<style scoped>\n",
              "    .dataframe tbody tr th:only-of-type {\n",
              "        vertical-align: middle;\n",
              "    }\n",
              "\n",
              "    .dataframe tbody tr th {\n",
              "        vertical-align: top;\n",
              "    }\n",
              "\n",
              "    .dataframe thead th {\n",
              "        text-align: right;\n",
              "    }\n",
              "</style>\n",
              "<table border=\"1\" class=\"dataframe\">\n",
              "  <thead>\n",
              "    <tr style=\"text-align: right;\">\n",
              "      <th></th>\n",
              "      <th>total_images</th>\n",
              "      <th>last_price</th>\n",
              "      <th>total_area</th>\n",
              "      <th>first_day_exposition</th>\n",
              "      <th>rooms</th>\n",
              "      <th>ceiling_height</th>\n",
              "      <th>floors_total</th>\n",
              "      <th>living_area</th>\n",
              "      <th>floor</th>\n",
              "      <th>is_apartment</th>\n",
              "      <th>...</th>\n",
              "      <th>ponds_nearest</th>\n",
              "      <th>days_exposition</th>\n",
              "      <th>total_area_category</th>\n",
              "      <th>price_square_meter</th>\n",
              "      <th>weekday_exposition</th>\n",
              "      <th>month_exposition</th>\n",
              "      <th>year_exposition</th>\n",
              "      <th>floor_category</th>\n",
              "      <th>ratio_living_area</th>\n",
              "      <th>ratio_kitchen_area</th>\n",
              "    </tr>\n",
              "  </thead>\n",
              "  <tbody>\n",
              "    <tr>\n",
              "      <td>0</td>\n",
              "      <td>20</td>\n",
              "      <td>13000000</td>\n",
              "      <td>108.0</td>\n",
              "      <td>2019-03-07</td>\n",
              "      <td>3</td>\n",
              "      <td>2.70</td>\n",
              "      <td>16</td>\n",
              "      <td>51.0</td>\n",
              "      <td>8</td>\n",
              "      <td>False</td>\n",
              "      <td>...</td>\n",
              "      <td>755</td>\n",
              "      <td>NaN</td>\n",
              "      <td>2</td>\n",
              "      <td>120370</td>\n",
              "      <td>3</td>\n",
              "      <td>3</td>\n",
              "      <td>2019</td>\n",
              "      <td>другой</td>\n",
              "      <td>0.472222</td>\n",
              "      <td>0.231481</td>\n",
              "    </tr>\n",
              "    <tr>\n",
              "      <td>1</td>\n",
              "      <td>7</td>\n",
              "      <td>3350000</td>\n",
              "      <td>40.4</td>\n",
              "      <td>2018-12-04</td>\n",
              "      <td>1</td>\n",
              "      <td>2.75</td>\n",
              "      <td>11</td>\n",
              "      <td>18.6</td>\n",
              "      <td>1</td>\n",
              "      <td>False</td>\n",
              "      <td>...</td>\n",
              "      <td>NaN</td>\n",
              "      <td>81</td>\n",
              "      <td>0</td>\n",
              "      <td>82921</td>\n",
              "      <td>1</td>\n",
              "      <td>12</td>\n",
              "      <td>2018</td>\n",
              "      <td>первый</td>\n",
              "      <td>0.460396</td>\n",
              "      <td>0.272277</td>\n",
              "    </tr>\n",
              "    <tr>\n",
              "      <td>2</td>\n",
              "      <td>10</td>\n",
              "      <td>5196000</td>\n",
              "      <td>56.0</td>\n",
              "      <td>2015-08-20</td>\n",
              "      <td>2</td>\n",
              "      <td>3.00</td>\n",
              "      <td>5</td>\n",
              "      <td>34.3</td>\n",
              "      <td>4</td>\n",
              "      <td>False</td>\n",
              "      <td>...</td>\n",
              "      <td>574</td>\n",
              "      <td>558</td>\n",
              "      <td>1</td>\n",
              "      <td>92786</td>\n",
              "      <td>3</td>\n",
              "      <td>8</td>\n",
              "      <td>2015</td>\n",
              "      <td>другой</td>\n",
              "      <td>0.612500</td>\n",
              "      <td>0.148214</td>\n",
              "    </tr>\n",
              "    <tr>\n",
              "      <td>3</td>\n",
              "      <td>0</td>\n",
              "      <td>64900000</td>\n",
              "      <td>159.0</td>\n",
              "      <td>2015-07-24</td>\n",
              "      <td>3</td>\n",
              "      <td>3.10</td>\n",
              "      <td>14</td>\n",
              "      <td>86.0</td>\n",
              "      <td>9</td>\n",
              "      <td>False</td>\n",
              "      <td>...</td>\n",
              "      <td>234</td>\n",
              "      <td>424</td>\n",
              "      <td>3</td>\n",
              "      <td>408176</td>\n",
              "      <td>4</td>\n",
              "      <td>7</td>\n",
              "      <td>2015</td>\n",
              "      <td>другой</td>\n",
              "      <td>0.540881</td>\n",
              "      <td>0.144654</td>\n",
              "    </tr>\n",
              "    <tr>\n",
              "      <td>4</td>\n",
              "      <td>2</td>\n",
              "      <td>10000000</td>\n",
              "      <td>100.0</td>\n",
              "      <td>2018-06-19</td>\n",
              "      <td>2</td>\n",
              "      <td>3.03</td>\n",
              "      <td>14</td>\n",
              "      <td>32.0</td>\n",
              "      <td>13</td>\n",
              "      <td>False</td>\n",
              "      <td>...</td>\n",
              "      <td>48</td>\n",
              "      <td>121</td>\n",
              "      <td>1</td>\n",
              "      <td>100000</td>\n",
              "      <td>1</td>\n",
              "      <td>6</td>\n",
              "      <td>2018</td>\n",
              "      <td>другой</td>\n",
              "      <td>0.320000</td>\n",
              "      <td>0.410000</td>\n",
              "    </tr>\n",
              "  </tbody>\n",
              "</table>\n",
              "<p>5 rows × 30 columns</p>\n",
              "</div>"
            ],
            "text/plain": [
              "   total_images  last_price  total_area first_day_exposition  rooms  \\\n",
              "0            20    13000000       108.0           2019-03-07      3   \n",
              "1             7     3350000        40.4           2018-12-04      1   \n",
              "2            10     5196000        56.0           2015-08-20      2   \n",
              "3             0    64900000       159.0           2015-07-24      3   \n",
              "4             2    10000000       100.0           2018-06-19      2   \n",
              "\n",
              "   ceiling_height  floors_total  living_area  floor  is_apartment  ...  \\\n",
              "0            2.70            16         51.0      8         False  ...   \n",
              "1            2.75            11         18.6      1         False  ...   \n",
              "2            3.00             5         34.3      4         False  ...   \n",
              "3            3.10            14         86.0      9         False  ...   \n",
              "4            3.03            14         32.0     13         False  ...   \n",
              "\n",
              "   ponds_nearest  days_exposition  total_area_category  price_square_meter  \\\n",
              "0            755              NaN                    2              120370   \n",
              "1            NaN               81                    0               82921   \n",
              "2            574              558                    1               92786   \n",
              "3            234              424                    3              408176   \n",
              "4             48              121                    1              100000   \n",
              "\n",
              "  weekday_exposition  month_exposition  year_exposition  floor_category  \\\n",
              "0                  3                 3             2019          другой   \n",
              "1                  1                12             2018          первый   \n",
              "2                  3                 8             2015          другой   \n",
              "3                  4                 7             2015          другой   \n",
              "4                  1                 6             2018          другой   \n",
              "\n",
              "   ratio_living_area  ratio_kitchen_area  \n",
              "0           0.472222            0.231481  \n",
              "1           0.460396            0.272277  \n",
              "2           0.612500            0.148214  \n",
              "3           0.540881            0.144654  \n",
              "4           0.320000            0.410000  \n",
              "\n",
              "[5 rows x 30 columns]"
            ]
          },
          "metadata": {},
          "output_type": "display_data"
        }
      ],
      "source": [
        "df.head()"
      ]
    },
    {
      "cell_type": "code",
      "execution_count": null,
      "metadata": {
        "cellId": "ho14wkn0qacgrjqmb3mrdq",
        "id": "Ka8Z-JzuohGh",
        "outputId": "610370d2-74a7-48d6-ac6e-1af7febdc9d1"
      },
      "outputs": [
        {
          "name": "stdout",
          "output_type": "stream",
          "text": [
            "<class 'pandas.core.frame.DataFrame'>\n",
            "RangeIndex: 23699 entries, 0 to 23698\n",
            "Data columns (total 30 columns):\n",
            "total_images            23699 non-null int64\n",
            "last_price              23699 non-null Int64\n",
            "total_area              23699 non-null float64\n",
            "first_day_exposition    23699 non-null datetime64[ns]\n",
            "rooms                   23699 non-null int64\n",
            "ceiling_height          23699 non-null float64\n",
            "floors_total            23613 non-null Int64\n",
            "living_area             23699 non-null float64\n",
            "floor                   23699 non-null int64\n",
            "is_apartment            23699 non-null bool\n",
            "studio                  23699 non-null bool\n",
            "open_plan               23699 non-null bool\n",
            "kitchen_area            23699 non-null float64\n",
            "balcony                 23699 non-null Int64\n",
            "locality_name           23699 non-null object\n",
            "airports_nearest        18157 non-null Int64\n",
            "cityCenters_nearest     18180 non-null Int64\n",
            "parks_around3000        18181 non-null Int64\n",
            "parks_nearest           8079 non-null Int64\n",
            "ponds_around3000        18181 non-null Int64\n",
            "ponds_nearest           9110 non-null Int64\n",
            "days_exposition         20518 non-null Int64\n",
            "total_area_category     23699 non-null int64\n",
            "price_square_meter      23699 non-null Int64\n",
            "weekday_exposition      23699 non-null int64\n",
            "month_exposition        23699 non-null int64\n",
            "year_exposition         23699 non-null int64\n",
            "floor_category          23699 non-null object\n",
            "ratio_living_area       23699 non-null float64\n",
            "ratio_kitchen_area      23699 non-null float64\n",
            "dtypes: Int64(11), bool(3), datetime64[ns](1), float64(6), int64(7), object(2)\n",
            "memory usage: 5.2+ MB\n"
          ]
        }
      ],
      "source": [
        "df.info()"
      ]
    },
    {
      "cell_type": "markdown",
      "metadata": {
        "cellId": "6zkllhciqocr5yk0dl1eo",
        "id": "e-6Cvu7GohGj"
      },
      "source": [
        "## Исследовательский анализ данных"
      ]
    },
    {
      "cell_type": "markdown",
      "metadata": {
        "cellId": "e5cegprhtxrsjm0wojzdzi",
        "id": "ZkIkQByVohGk"
      },
      "source": [
        "### Площадь, цена, число комнат, высота потолков"
      ]
    },
    {
      "cell_type": "markdown",
      "metadata": {
        "cellId": "j7oapnhbnhb5k2q0zx4jk6",
        "id": "wpGXhEGQohGk"
      },
      "source": [
        "Построим гистограммы для каждого параметра"
      ]
    },
    {
      "cell_type": "code",
      "execution_count": null,
      "metadata": {
        "cellId": "ygh5qdapvvxsdr3u6g5i",
        "id": "-_fLfGF1ohGl",
        "outputId": "fb198646-d3c4-4cad-950b-190fe9ff575a"
      },
      "outputs": [
        {
          "data": {
            "image/png": "[encoded data removed]",
            "text/plain": [
              "<Figure size 432x288 with 1 Axes>"
            ]
          },
          "metadata": {
            "needs_background": "light"
          },
          "output_type": "display_data"
        },
        {
          "data": {
            "image/png": "[encoded data removed]",
            "text/plain": [
              "<Figure size 432x288 with 1 Axes>"
            ]
          },
          "metadata": {
            "needs_background": "light"
          },
          "output_type": "display_data"
        },
        {
          "data": {
            "image/png": "[encoded data removed]",
            "text/plain": [
              "<Figure size 432x288 with 1 Axes>"
            ]
          },
          "metadata": {
            "needs_background": "light"
          },
          "output_type": "display_data"
        },
        {
          "data": {
            "image/png": "[encoded data removed]",
            "text/plain": [
              "<Figure size 432x288 with 1 Axes>"
            ]
          },
          "metadata": {
            "needs_background": "light"
          },
          "output_type": "display_data"
        }
      ],
      "source": [
        "for name in ['total_area', 'last_price', 'rooms', 'ceiling_height']:\n",
        "    df.hist(name, bins=100,)"
      ]
    },
    {
      "cell_type": "markdown",
      "metadata": {
        "cellId": "w6l3mnhvx10f3oozesl4kr",
        "id": "vXTeeQc2ohGl"
      },
      "source": [
        "На первый взляд параметры имеют вид распределения Пуассона. Посмотрим более детально."
      ]
    },
    {
      "cell_type": "markdown",
      "metadata": {
        "cellId": "uotzhedhkudp15mb3mulj",
        "id": "E7e6KDjxohGn"
      },
      "source": [
        "#### Площадь"
      ]
    },
    {
      "cell_type": "code",
      "execution_count": null,
      "metadata": {
        "cellId": "y4uhi12ffzshkaic7vogxv",
        "id": "-H4j_tzDohGn",
        "outputId": "d033cde4-225b-422b-d2b3-0bc67af078b7"
      },
      "outputs": [
        {
          "data": {
            "text/plain": [
              "count    23699.000000\n",
              "mean        60.348651\n",
              "std         35.654083\n",
              "min         12.000000\n",
              "25%         40.000000\n",
              "50%         52.000000\n",
              "75%         69.900000\n",
              "max        900.000000\n",
              "Name: total_area, dtype: float64"
            ]
          },
          "metadata": {},
          "output_type": "display_data"
        }
      ],
      "source": [
        "df['total_area'].describe()"
      ]
    },
    {
      "cell_type": "code",
      "execution_count": null,
      "metadata": {
        "cellId": "i7fekasq1paly72woorv8",
        "id": "NpNUQgWcohGo",
        "outputId": "7dd68344-e618-4fe5-9d2d-9e0c66644d85"
      },
      "outputs": [
        {
          "data": {
            "image/png": "[encoded data removed]",
            "text/plain": [
              "<Figure size 432x288 with 1 Axes>"
            ]
          },
          "metadata": {
            "needs_background": "light"
          },
          "output_type": "display_data"
        }
      ],
      "source": [
        "plt.ylim(0, 120)\n",
        "df.boxplot('total_area');"
      ]
    },
    {
      "cell_type": "markdown",
      "metadata": {
        "cellId": "29nv8bd5s6g2zuvjq7wcv6",
        "id": "dZEx2_7ZohGp"
      },
      "source": [
        "Средняя площадь равна 60 кв.м. Медианная - 52 кв.м. Распределение имеет длинный хвост в положительную сторону и выдающиеся значения более 115 кв.м. Максимальная площадь квартиры 900 кв.м."
      ]
    },
    {
      "cell_type": "markdown",
      "metadata": {
        "cellId": "fz5y4pj8fl41e2ydamjqii",
        "id": "GX_qgDPDohGp"
      },
      "source": [
        "#### Цена"
      ]
    },
    {
      "cell_type": "markdown",
      "metadata": {
        "cellId": "8r3pthi4zbk4nuxrio5015",
        "id": "gqGuRFevohGp"
      },
      "source": [
        "- Цена квартиры"
      ]
    },
    {
      "cell_type": "code",
      "execution_count": null,
      "metadata": {
        "cellId": "a5esq7633bfsmowmfs9h3l",
        "id": "4BQ9_ne9ohGp",
        "outputId": "f07fece3-70b0-47d7-9668-0d8ed1f9b4c7"
      },
      "outputs": [
        {
          "data": {
            "text/plain": [
              "count    2.369900e+04\n",
              "mean     6.541549e+06\n",
              "std      1.088701e+07\n",
              "min      1.219000e+04\n",
              "25%      3.400000e+06\n",
              "50%      4.650000e+06\n",
              "75%      6.800000e+06\n",
              "max      7.630000e+08\n",
              "Name: last_price, dtype: float64"
            ]
          },
          "metadata": {},
          "output_type": "display_data"
        }
      ],
      "source": [
        "df['last_price'].describe()"
      ]
    },
    {
      "cell_type": "code",
      "execution_count": null,
      "metadata": {
        "cellId": "g0pa38f8jsu9f0ad9bc8wi",
        "id": "8pACT7yPohGp",
        "outputId": "09ed1e63-d37b-4878-91cb-5b28386b2c7b"
      },
      "outputs": [
        {
          "data": {
            "image/png": "[encoded data removed]",
            "text/plain": [
              "<Figure size 432x288 with 1 Axes>"
            ]
          },
          "metadata": {
            "needs_background": "light"
          },
          "output_type": "display_data"
        }
      ],
      "source": [
        "plt.ylim(-1000000, 13000000)\n",
        "df.boxplot('last_price');"
      ]
    },
    {
      "cell_type": "markdown",
      "metadata": {
        "cellId": "xmx4omslxrqqxidt6xh1m",
        "id": "ok4Ym2FuohGp"
      },
      "source": [
        "- Цена квадратного метра"
      ]
    },
    {
      "cell_type": "code",
      "execution_count": null,
      "metadata": {
        "cellId": "8f9jrb1k015zu2h79rthx",
        "id": "osrBBMoCohGp",
        "outputId": "6b5bf35a-d40f-4e72-8835-468af5737d3c"
      },
      "outputs": [
        {
          "data": {
            "text/plain": [
              "count    2.369900e+04\n",
              "mean     9.942166e+04\n",
              "std      5.030680e+04\n",
              "min      1.120000e+02\n",
              "25%      7.658550e+04\n",
              "50%      9.500000e+04\n",
              "75%      1.142560e+05\n",
              "max      1.907500e+06\n",
              "Name: price_square_meter, dtype: float64"
            ]
          },
          "metadata": {},
          "output_type": "display_data"
        }
      ],
      "source": [
        "df['price_square_meter'].describe()"
      ]
    },
    {
      "cell_type": "code",
      "execution_count": null,
      "metadata": {
        "cellId": "g9gz1n16i4vj54ypzjug",
        "id": "RSxfYht4ohGp",
        "outputId": "b0f1e98e-1545-467e-827e-afaad3df9c0e"
      },
      "outputs": [
        {
          "data": {
            "image/png": "[encoded data removed]",
            "text/plain": [
              "<Figure size 432x288 with 1 Axes>"
            ]
          },
          "metadata": {
            "needs_background": "light"
          },
          "output_type": "display_data"
        }
      ],
      "source": [
        "plt.ylim(0, 180000)\n",
        "df.boxplot('price_square_meter');"
      ]
    },
    {
      "cell_type": "markdown",
      "metadata": {
        "cellId": "3v372fxv1xjpb7zjs49v9g",
        "id": "nK4yS_hOohGp"
      },
      "source": [
        "Средняя цена квартиры равна 6540 тыс.руб. Медианная - 4650 тыс.руб. Распределение имеет длинный хвост в положительную сторону и выдающиеся значения более 12000 тыс.руб, а так же аномальные значения с ценой квадратного метра менее 20 тыс.руб. Максимальная стоимость квартиры 763000 тыс.руб."
      ]
    },
    {
      "cell_type": "markdown",
      "metadata": {
        "cellId": "0701socr43rgqqy3nyww0g",
        "id": "EgWPDM0vohGp"
      },
      "source": [
        "#### Число комнат"
      ]
    },
    {
      "cell_type": "code",
      "execution_count": null,
      "metadata": {
        "cellId": "jug95laoe9sjez0sop6pc",
        "id": "ZfXu_PHGohGp",
        "outputId": "1ca43360-ab6b-4cd2-c8a8-f58f53cb94e9"
      },
      "outputs": [
        {
          "data": {
            "text/plain": [
              "count    23699.000000\n",
              "mean         2.070172\n",
              "std          1.079081\n",
              "min          0.000000\n",
              "25%          1.000000\n",
              "50%          2.000000\n",
              "75%          3.000000\n",
              "max         19.000000\n",
              "Name: rooms, dtype: float64"
            ]
          },
          "metadata": {},
          "output_type": "display_data"
        }
      ],
      "source": [
        "df['rooms'].describe()"
      ]
    },
    {
      "cell_type": "code",
      "execution_count": null,
      "metadata": {
        "cellId": "zxvtur92aqam78pjiuwe4",
        "id": "p_4xl1IAohGp",
        "outputId": "b0aebfee-c78b-447e-81d2-d96498fc3dc6"
      },
      "outputs": [
        {
          "data": {
            "image/png": "[encoded data removed]",
            "text/plain": [
              "<Figure size 432x288 with 1 Axes>"
            ]
          },
          "metadata": {
            "needs_background": "light"
          },
          "output_type": "display_data"
        }
      ],
      "source": [
        "plt.ylim(0, 10)\n",
        "df.boxplot('rooms');"
      ]
    },
    {
      "cell_type": "code",
      "execution_count": null,
      "metadata": {
        "cellId": "eqyo9o0m31u82lcc7a1nem",
        "id": "62HXpvB8ohGp",
        "outputId": "23d1f491-cee8-4a4c-dc94-b688ee2a2ea4"
      },
      "outputs": [
        {
          "data": {
            "text/plain": [
              "1     8036\n",
              "2     7940\n",
              "3     5814\n",
              "4     1180\n",
              "5      326\n",
              "0      208\n",
              "6      105\n",
              "7       59\n",
              "8       12\n",
              "9        8\n",
              "10       3\n",
              "14       2\n",
              "11       2\n",
              "19       1\n",
              "12       1\n",
              "16       1\n",
              "15       1\n",
              "Name: rooms, dtype: int64"
            ]
          },
          "metadata": {},
          "output_type": "display_data"
        }
      ],
      "source": [
        "df['rooms'].value_counts()"
      ]
    },
    {
      "cell_type": "markdown",
      "metadata": {
        "cellId": "9owwdka9wja6frmitrx17i",
        "id": "nYygGvICohGz"
      },
      "source": [
        "Среднее и медианное количество комнат равно 2. Редкие и выдающиеся значения более 6 комнат. Очень редко встречаются квартиры с числом комнат более 9."
      ]
    },
    {
      "cell_type": "markdown",
      "metadata": {
        "cellId": "rq68arfaobgr6rlm2p4g3",
        "id": "_uyn_1STohGz"
      },
      "source": [
        "#### Высота потолков"
      ]
    },
    {
      "cell_type": "code",
      "execution_count": null,
      "metadata": {
        "cellId": "8yz1psvo79u7x2lfwglkal",
        "id": "T6k5EItmohGz",
        "outputId": "e9e89051-c9ae-4c26-e96b-17aebb172d72"
      },
      "outputs": [
        {
          "data": {
            "text/plain": [
              "count    23699.000000\n",
              "mean         2.748398\n",
              "std          1.045762\n",
              "min          1.000000\n",
              "25%          2.550000\n",
              "50%          2.650000\n",
              "75%          2.780000\n",
              "max        100.000000\n",
              "Name: ceiling_height, dtype: float64"
            ]
          },
          "metadata": {},
          "output_type": "display_data"
        }
      ],
      "source": [
        "df['ceiling_height'].describe()"
      ]
    },
    {
      "cell_type": "code",
      "execution_count": null,
      "metadata": {
        "cellId": "a60348ylbdwsyd1wladf1t",
        "id": "Hvn14zk2ohGz",
        "outputId": "9efad310-d0fc-49c4-8925-3e76dac6790c"
      },
      "outputs": [
        {
          "data": {
            "image/png": "[encoded data removed]",
            "text/plain": [
              "<Figure size 432x288 with 1 Axes>"
            ]
          },
          "metadata": {
            "needs_background": "light"
          },
          "output_type": "display_data"
        }
      ],
      "source": [
        "plt.ylim(2, 3.3)\n",
        "df.boxplot('ceiling_height');"
      ]
    },
    {
      "cell_type": "markdown",
      "metadata": {
        "cellId": "w8bzmqb32ycopm1mk8x46",
        "id": "hxPHVspRohGz"
      },
      "source": [
        "Средняя высота потолков равна 2.74 м. Медианная - 2.65 м. Параметр имеет редкие и аномальные значения менее 2.25 метров и более 3.12 метров."
      ]
    },
    {
      "cell_type": "markdown",
      "metadata": {
        "cellId": "gv07yxyu606enmxjv2m6q",
        "id": "zse_eKqMohGz"
      },
      "source": [
        "### Время продажи квартиры"
      ]
    },
    {
      "cell_type": "markdown",
      "metadata": {
        "cellId": "hiybrvwbyt9g7hlxlqga56",
        "id": "EHVQDuLsohGz"
      },
      "source": [
        "Изучим время продажи квартир"
      ]
    },
    {
      "cell_type": "code",
      "execution_count": null,
      "metadata": {
        "cellId": "vvob1tw7r72ahs2mapyce",
        "id": "sQjGODcVohGz",
        "outputId": "10c5b6b7-6d09-4f3e-8535-ec1305be39a3"
      },
      "outputs": [
        {
          "data": {
            "text/plain": [
              "count    20518.000000\n",
              "mean       180.888634\n",
              "std        219.727988\n",
              "min          1.000000\n",
              "25%         45.000000\n",
              "50%         95.000000\n",
              "75%        232.000000\n",
              "max       1580.000000\n",
              "Name: days_exposition, dtype: float64"
            ]
          },
          "metadata": {},
          "output_type": "display_data"
        }
      ],
      "source": [
        "df['days_exposition'].describe()"
      ]
    },
    {
      "cell_type": "code",
      "execution_count": null,
      "metadata": {
        "cellId": "ny7xoezdnun0gy6d87vwu5b",
        "id": "1NF2piOhohGz",
        "outputId": "68333c61-4dbc-4c13-eb96-f66da52154e6"
      },
      "outputs": [
        {
          "data": {
            "image/png": "[encoded data removed]",
            "text/plain": [
              "<Figure size 432x288 with 1 Axes>"
            ]
          },
          "metadata": {
            "needs_background": "light"
          },
          "output_type": "display_data"
        }
      ],
      "source": [
        "df['days_exposition'].hist(bins=100);"
      ]
    },
    {
      "cell_type": "code",
      "execution_count": null,
      "metadata": {
        "cellId": "jb19nipvkd83bljcyw3vg8",
        "id": "wIKXUx1nohGz",
        "outputId": "8135c094-8615-4be4-9e28-9c2962e22d5a"
      },
      "outputs": [
        {
          "data": {
            "image/png": "[encoded data removed]",
            "text/plain": [
              "<Figure size 432x288 with 1 Axes>"
            ]
          },
          "metadata": {
            "needs_background": "light"
          },
          "output_type": "display_data"
        }
      ],
      "source": [
        "plt.ylim(-50, 600)\n",
        "df.boxplot('days_exposition');"
      ]
    },
    {
      "cell_type": "markdown",
      "metadata": {
        "cellId": "nbdwnyw4qpffaiv8gs65",
        "id": "RG9zwtkcohGz"
      },
      "source": [
        "Время продажи квартиры имеет вид распределение Пуассона. Среднее время продажи квартиры 180 дней. Медианное время 95 дней. Обычно продажа занимает от 1 до 512 дней. Слишком быстрые продажи - менее 1 дня. Слишком долгие продажи - дольше 510 дней."
      ]
    },
    {
      "cell_type": "markdown",
      "metadata": {
        "cellId": "7x0o2y05u2k29b2pmq8uf2",
        "id": "D_-rtdYkohGz"
      },
      "source": [
        "### Редкие и выбивающиеся значения"
      ]
    },
    {
      "cell_type": "markdown",
      "metadata": {
        "cellId": "4lnntrneeovicnbq7u0mtl",
        "id": "V6wmBD4nohGz"
      },
      "source": [
        "Уберем аномальные значения в столбце - `ceiling_height` высота потолков. Хотя анализ показал выбросы от менее 2,25 м и более 3,12 м, расширим эти границы т. к. в центре встречаются квартиры с нестандартными высотами. Высота потолков менее двух метров и более восьми метров скорее всего указана ошибочно. Поэтому заменим эти значения на пропуски, чтобы не терять данные из других столбцов."
      ]
    },
    {
      "cell_type": "code",
      "execution_count": null,
      "metadata": {
        "cellId": "wiad7n0zkcch0wnrhbq9w",
        "id": "qZXaIh45ohGz",
        "outputId": "080fcc47-f20b-4c8c-b81e-06d4e3f9963c"
      },
      "outputs": [
        {
          "data": {
            "text/plain": [
              "count    23665.000000\n",
              "mean         2.717084\n",
              "std          0.254820\n",
              "min          2.000000\n",
              "25%          2.550000\n",
              "50%          2.650000\n",
              "75%          2.775000\n",
              "max          8.000000\n",
              "Name: ceiling_height, dtype: float64"
            ]
          },
          "metadata": {},
          "output_type": "display_data"
        }
      ],
      "source": [
        "df.loc[(df['ceiling_height'] < 2) |  (df['ceiling_height'] > 8), 'ceiling_height'] = np.nan\n",
        "df['ceiling_height'].describe()"
      ]
    },
    {
      "cell_type": "markdown",
      "metadata": {
        "cellId": "rw90mci3gxcicf4tx06fo",
        "id": "fdqOLdhiohG9"
      },
      "source": [
        "Исключим редкие, выдающиеся и аномальные значения из дальнейшего анализа. Исключим квартиры с ценой квадратного метра менее 20 тыс.руб и числом комнат более 9, а так же квартиры с максимальной площадью и максимальной ценой."
      ]
    },
    {
      "cell_type": "code",
      "execution_count": null,
      "metadata": {
        "cellId": "53pl34xxife8maj3nfakdo",
        "id": "iiLFw5hxohG9",
        "outputId": "7c3b106c-9e44-4896-bb0b-e8bc1968e79d"
      },
      "outputs": [
        {
          "name": "stdout",
          "output_type": "stream",
          "text": [
            "<class 'pandas.core.frame.DataFrame'>\n",
            "RangeIndex: 23519 entries, 0 to 23518\n",
            "Data columns (total 30 columns):\n",
            "total_images            23519 non-null int64\n",
            "last_price              23519 non-null Int64\n",
            "total_area              23519 non-null float64\n",
            "first_day_exposition    23519 non-null datetime64[ns]\n",
            "rooms                   23519 non-null int64\n",
            "ceiling_height          23485 non-null float64\n",
            "floors_total            23433 non-null Int64\n",
            "living_area             23519 non-null float64\n",
            "floor                   23519 non-null int64\n",
            "is_apartment            23519 non-null bool\n",
            "studio                  23519 non-null bool\n",
            "open_plan               23519 non-null bool\n",
            "kitchen_area            23519 non-null float64\n",
            "balcony                 23519 non-null Int64\n",
            "locality_name           23519 non-null object\n",
            "airports_nearest        18141 non-null Int64\n",
            "cityCenters_nearest     18164 non-null Int64\n",
            "parks_around3000        18165 non-null Int64\n",
            "parks_nearest           8069 non-null Int64\n",
            "ponds_around3000        18165 non-null Int64\n",
            "ponds_nearest           9101 non-null Int64\n",
            "days_exposition         20373 non-null Int64\n",
            "total_area_category     23519 non-null int64\n",
            "price_square_meter      23519 non-null Int64\n",
            "weekday_exposition      23519 non-null int64\n",
            "month_exposition        23519 non-null int64\n",
            "year_exposition         23519 non-null int64\n",
            "floor_category          23519 non-null object\n",
            "ratio_living_area       23519 non-null float64\n",
            "ratio_kitchen_area      23519 non-null float64\n",
            "dtypes: Int64(11), bool(3), datetime64[ns](1), float64(6), int64(7), object(2)\n",
            "memory usage: 5.2+ MB\n"
          ]
        }
      ],
      "source": [
        "good_df = df[df['total_area'] <= 900]\n",
        "good_df = good_df[good_df['last_price'] <= 763000000]\n",
        "good_df = good_df[good_df['price_square_meter'] >= 20000]\n",
        "good_df = good_df[good_df['rooms'] <= 9].reset_index(drop=True)\n",
        "good_df.info()\n",
        "#  В DataSphere не получилось через query() и через объединение условий"
      ]
    },
    {
      "cell_type": "code",
      "execution_count": null,
      "metadata": {
        "cellId": "6znmw5wn2xhnyjdlc1fph",
        "id": "CTXZcincohG9",
        "outputId": "3e438008-b079-42e8-caaa-fdbca956b92f"
      },
      "outputs": [
        {
          "data": {
            "text/html": [
              "<div>\n",
              "<style scoped>\n",
              "    .dataframe tbody tr th:only-of-type {\n",
              "        vertical-align: middle;\n",
              "    }\n",
              "\n",
              "    .dataframe tbody tr th {\n",
              "        vertical-align: top;\n",
              "    }\n",
              "\n",
              "    .dataframe thead th {\n",
              "        text-align: right;\n",
              "    }\n",
              "</style>\n",
              "<table border=\"1\" class=\"dataframe\">\n",
              "  <thead>\n",
              "    <tr style=\"text-align: right;\">\n",
              "      <th></th>\n",
              "      <th>total_images</th>\n",
              "      <th>last_price</th>\n",
              "      <th>total_area</th>\n",
              "      <th>first_day_exposition</th>\n",
              "      <th>rooms</th>\n",
              "      <th>ceiling_height</th>\n",
              "      <th>floors_total</th>\n",
              "      <th>living_area</th>\n",
              "      <th>floor</th>\n",
              "      <th>is_apartment</th>\n",
              "      <th>...</th>\n",
              "      <th>ponds_nearest</th>\n",
              "      <th>days_exposition</th>\n",
              "      <th>total_area_category</th>\n",
              "      <th>price_square_meter</th>\n",
              "      <th>weekday_exposition</th>\n",
              "      <th>month_exposition</th>\n",
              "      <th>year_exposition</th>\n",
              "      <th>floor_category</th>\n",
              "      <th>ratio_living_area</th>\n",
              "      <th>ratio_kitchen_area</th>\n",
              "    </tr>\n",
              "  </thead>\n",
              "  <tbody>\n",
              "    <tr>\n",
              "      <td>0</td>\n",
              "      <td>20</td>\n",
              "      <td>13000000</td>\n",
              "      <td>108.0</td>\n",
              "      <td>2019-03-07</td>\n",
              "      <td>3</td>\n",
              "      <td>2.70</td>\n",
              "      <td>16</td>\n",
              "      <td>51.0</td>\n",
              "      <td>8</td>\n",
              "      <td>False</td>\n",
              "      <td>...</td>\n",
              "      <td>755</td>\n",
              "      <td>NaN</td>\n",
              "      <td>2</td>\n",
              "      <td>120370</td>\n",
              "      <td>3</td>\n",
              "      <td>3</td>\n",
              "      <td>2019</td>\n",
              "      <td>другой</td>\n",
              "      <td>0.472222</td>\n",
              "      <td>0.231481</td>\n",
              "    </tr>\n",
              "    <tr>\n",
              "      <td>1</td>\n",
              "      <td>7</td>\n",
              "      <td>3350000</td>\n",
              "      <td>40.4</td>\n",
              "      <td>2018-12-04</td>\n",
              "      <td>1</td>\n",
              "      <td>2.75</td>\n",
              "      <td>11</td>\n",
              "      <td>18.6</td>\n",
              "      <td>1</td>\n",
              "      <td>False</td>\n",
              "      <td>...</td>\n",
              "      <td>NaN</td>\n",
              "      <td>81</td>\n",
              "      <td>0</td>\n",
              "      <td>82921</td>\n",
              "      <td>1</td>\n",
              "      <td>12</td>\n",
              "      <td>2018</td>\n",
              "      <td>первый</td>\n",
              "      <td>0.460396</td>\n",
              "      <td>0.272277</td>\n",
              "    </tr>\n",
              "    <tr>\n",
              "      <td>2</td>\n",
              "      <td>10</td>\n",
              "      <td>5196000</td>\n",
              "      <td>56.0</td>\n",
              "      <td>2015-08-20</td>\n",
              "      <td>2</td>\n",
              "      <td>3.00</td>\n",
              "      <td>5</td>\n",
              "      <td>34.3</td>\n",
              "      <td>4</td>\n",
              "      <td>False</td>\n",
              "      <td>...</td>\n",
              "      <td>574</td>\n",
              "      <td>558</td>\n",
              "      <td>1</td>\n",
              "      <td>92786</td>\n",
              "      <td>3</td>\n",
              "      <td>8</td>\n",
              "      <td>2015</td>\n",
              "      <td>другой</td>\n",
              "      <td>0.612500</td>\n",
              "      <td>0.148214</td>\n",
              "    </tr>\n",
              "    <tr>\n",
              "      <td>3</td>\n",
              "      <td>0</td>\n",
              "      <td>64900000</td>\n",
              "      <td>159.0</td>\n",
              "      <td>2015-07-24</td>\n",
              "      <td>3</td>\n",
              "      <td>3.10</td>\n",
              "      <td>14</td>\n",
              "      <td>86.0</td>\n",
              "      <td>9</td>\n",
              "      <td>False</td>\n",
              "      <td>...</td>\n",
              "      <td>234</td>\n",
              "      <td>424</td>\n",
              "      <td>3</td>\n",
              "      <td>408176</td>\n",
              "      <td>4</td>\n",
              "      <td>7</td>\n",
              "      <td>2015</td>\n",
              "      <td>другой</td>\n",
              "      <td>0.540881</td>\n",
              "      <td>0.144654</td>\n",
              "    </tr>\n",
              "    <tr>\n",
              "      <td>4</td>\n",
              "      <td>2</td>\n",
              "      <td>10000000</td>\n",
              "      <td>100.0</td>\n",
              "      <td>2018-06-19</td>\n",
              "      <td>2</td>\n",
              "      <td>3.03</td>\n",
              "      <td>14</td>\n",
              "      <td>32.0</td>\n",
              "      <td>13</td>\n",
              "      <td>False</td>\n",
              "      <td>...</td>\n",
              "      <td>48</td>\n",
              "      <td>121</td>\n",
              "      <td>1</td>\n",
              "      <td>100000</td>\n",
              "      <td>1</td>\n",
              "      <td>6</td>\n",
              "      <td>2018</td>\n",
              "      <td>другой</td>\n",
              "      <td>0.320000</td>\n",
              "      <td>0.410000</td>\n",
              "    </tr>\n",
              "  </tbody>\n",
              "</table>\n",
              "<p>5 rows × 30 columns</p>\n",
              "</div>"
            ],
            "text/plain": [
              "   total_images  last_price  total_area first_day_exposition  rooms  \\\n",
              "0            20    13000000       108.0           2019-03-07      3   \n",
              "1             7     3350000        40.4           2018-12-04      1   \n",
              "2            10     5196000        56.0           2015-08-20      2   \n",
              "3             0    64900000       159.0           2015-07-24      3   \n",
              "4             2    10000000       100.0           2018-06-19      2   \n",
              "\n",
              "   ceiling_height  floors_total  living_area  floor  is_apartment  ...  \\\n",
              "0            2.70            16         51.0      8         False  ...   \n",
              "1            2.75            11         18.6      1         False  ...   \n",
              "2            3.00             5         34.3      4         False  ...   \n",
              "3            3.10            14         86.0      9         False  ...   \n",
              "4            3.03            14         32.0     13         False  ...   \n",
              "\n",
              "   ponds_nearest  days_exposition  total_area_category  price_square_meter  \\\n",
              "0            755              NaN                    2              120370   \n",
              "1            NaN               81                    0               82921   \n",
              "2            574              558                    1               92786   \n",
              "3            234              424                    3              408176   \n",
              "4             48              121                    1              100000   \n",
              "\n",
              "  weekday_exposition  month_exposition  year_exposition  floor_category  \\\n",
              "0                  3                 3             2019          другой   \n",
              "1                  1                12             2018          первый   \n",
              "2                  3                 8             2015          другой   \n",
              "3                  4                 7             2015          другой   \n",
              "4                  1                 6             2018          другой   \n",
              "\n",
              "   ratio_living_area  ratio_kitchen_area  \n",
              "0           0.472222            0.231481  \n",
              "1           0.460396            0.272277  \n",
              "2           0.612500            0.148214  \n",
              "3           0.540881            0.144654  \n",
              "4           0.320000            0.410000  \n",
              "\n",
              "[5 rows x 30 columns]"
            ]
          },
          "metadata": {},
          "output_type": "display_data"
        }
      ],
      "source": [
        "good_df.head()"
      ]
    },
    {
      "cell_type": "markdown",
      "metadata": {
        "cellId": "s9n1uoxdqkg8a3rq831tbb",
        "id": "lEUNjekGohG9"
      },
      "source": [
        "### Какие факторы больше всего влияют на стоимость квартиры?"
      ]
    },
    {
      "cell_type": "markdown",
      "metadata": {
        "cellId": "qzhpm24jcxy9w2hmow03",
        "id": "XgKv_HteohG9"
      },
      "source": [
        "Изучим влияние площади и расстояния до центра на стоимость квадратного метра."
      ]
    },
    {
      "cell_type": "code",
      "execution_count": null,
      "metadata": {
        "cellId": "b43ecqa1smh4w0kaysav2l",
        "id": "e2bQSt0iohG9",
        "outputId": "f87a8b94-395b-4097-f31d-15831a78ced5"
      },
      "outputs": [
        {
          "data": {
            "image/png": "[encoded data removed]",
            "text/plain": [
              "<Figure size 432x288 with 1 Axes>"
            ]
          },
          "metadata": {
            "needs_background": "light"
          },
          "output_type": "display_data"
        },
        {
          "data": {
            "image/png": "[encoded data removed]",
            "text/plain": [
              "<Figure size 432x288 with 1 Axes>"
            ]
          },
          "metadata": {
            "needs_background": "light"
          },
          "output_type": "display_data"
        }
      ],
      "source": [
        "for name in ['total_area', 'cityCenters_nearest']:\n",
        "    good_df.plot(x='price_square_meter', y=name, kind='scatter',)"
      ]
    },
    {
      "cell_type": "code",
      "execution_count": null,
      "metadata": {
        "cellId": "bke8kgdr1l9qg0enk803i",
        "id": "ZMZxHIgCohG9",
        "outputId": "89705d90-1be1-4fe7-fcde-28a78e5be866"
      },
      "outputs": [
        {
          "data": {
            "text/html": [
              "<div>\n",
              "<style scoped>\n",
              "    .dataframe tbody tr th:only-of-type {\n",
              "        vertical-align: middle;\n",
              "    }\n",
              "\n",
              "    .dataframe tbody tr th {\n",
              "        vertical-align: top;\n",
              "    }\n",
              "\n",
              "    .dataframe thead th {\n",
              "        text-align: right;\n",
              "    }\n",
              "</style>\n",
              "<table border=\"1\" class=\"dataframe\">\n",
              "  <thead>\n",
              "    <tr style=\"text-align: right;\">\n",
              "      <th></th>\n",
              "      <th>price_square_meter</th>\n",
              "      <th>total_area</th>\n",
              "      <th>cityCenters_nearest</th>\n",
              "    </tr>\n",
              "  </thead>\n",
              "  <tbody>\n",
              "    <tr>\n",
              "      <td>price_square_meter</td>\n",
              "      <td>1.000000</td>\n",
              "      <td>0.303257</td>\n",
              "      <td>-0.319010</td>\n",
              "    </tr>\n",
              "    <tr>\n",
              "      <td>total_area</td>\n",
              "      <td>0.303257</td>\n",
              "      <td>1.000000</td>\n",
              "      <td>-0.232775</td>\n",
              "    </tr>\n",
              "    <tr>\n",
              "      <td>cityCenters_nearest</td>\n",
              "      <td>-0.319010</td>\n",
              "      <td>-0.232775</td>\n",
              "      <td>1.000000</td>\n",
              "    </tr>\n",
              "  </tbody>\n",
              "</table>\n",
              "</div>"
            ],
            "text/plain": [
              "                     price_square_meter  total_area  cityCenters_nearest\n",
              "price_square_meter             1.000000    0.303257            -0.319010\n",
              "total_area                     0.303257    1.000000            -0.232775\n",
              "cityCenters_nearest           -0.319010   -0.232775             1.000000"
            ]
          },
          "metadata": {},
          "output_type": "display_data"
        }
      ],
      "source": [
        "df_corr = good_df[['price_square_meter', 'total_area', 'cityCenters_nearest']].corr()\n",
        "df_corr"
      ]
    },
    {
      "cell_type": "markdown",
      "metadata": {
        "cellId": "k89zwkhwicgee3zxkut5q",
        "id": "vUjctGROohG9"
      },
      "source": [
        "Площадь квартиры имеет слабую корреляцию со стоимостью квадратного метра 0.3, из-за большого территориального разброса. Удаленность от центра имеет слабую отрицательную корреляцию со стоимостью квадратного метра -0.32."
      ]
    },
    {
      "cell_type": "markdown",
      "metadata": {
        "cellId": "ov92qafb5ptctcv9uwh5",
        "id": "2YO0-NDKohHH"
      },
      "source": [
        "Изучим влияние числа комнат."
      ]
    },
    {
      "cell_type": "code",
      "execution_count": null,
      "metadata": {
        "cellId": "8p9d2gm67w4f7nl33eidy8",
        "id": "ebVM-AdeohHH",
        "outputId": "9af98fff-948b-4208-8f0a-9b717dc65ade"
      },
      "outputs": [
        {
          "data": {
            "image/png": "[encoded data removed]",
            "text/plain": [
              "<Figure size 432x288 with 1 Axes>"
            ]
          },
          "metadata": {
            "needs_background": "light"
          },
          "output_type": "display_data"
        }
      ],
      "source": [
        "good_df.pivot_table(index='rooms', values='price_square_meter', aggfunc='median'\n",
        "                   ).plot(kind='bar', grid=True, title='Влияние числа комнат', ylim=(75000, 110000));"
      ]
    },
    {
      "cell_type": "markdown",
      "metadata": {
        "cellId": "1yg3q5ehu8igh9jkytar65",
        "id": "DZk4ckQpohHH"
      },
      "source": [
        "Наиболее дорогой квадратный метр в студиях, далее с увеличением числа комнат стоимость квадратного метра уменьшается, однако начиная с четырехкомнатных квартир стоимость квадратного метра снова увеличивается."
      ]
    },
    {
      "cell_type": "markdown",
      "metadata": {
        "cellId": "86pw399c49l8zzzw4hyfvs",
        "id": "0iAnd9a9ohHH"
      },
      "source": [
        "Изучим влияние этажности."
      ]
    },
    {
      "cell_type": "code",
      "execution_count": null,
      "metadata": {
        "cellId": "7axfmrp85yryrwnlx6iv38",
        "id": "FnpcB97wohHH",
        "outputId": "d0dc4629-e519-4c9e-e09a-9c630dc7ba29"
      },
      "outputs": [
        {
          "data": {
            "image/png": "[encoded data removed]",
            "text/plain": [
              "<Figure size 432x288 with 1 Axes>"
            ]
          },
          "metadata": {
            "needs_background": "light"
          },
          "output_type": "display_data"
        }
      ],
      "source": [
        "good_df.pivot_table(index='floor_category', values='price_square_meter', aggfunc='median'\n",
        "                   ).plot(kind='bar', grid=True, title='Влияние этажности', ylim=(80000, 100000));"
      ]
    },
    {
      "cell_type": "markdown",
      "metadata": {
        "cellId": "9miopx30dapcqletn7au4h",
        "id": "bHdz6vzxohHH"
      },
      "source": [
        "Дешевле всего квартиры на первом этаже, дороже - на других этажах кроме последнего."
      ]
    },
    {
      "cell_type": "markdown",
      "metadata": {
        "cellId": "lbcx8m3mvmk667iu7s4qav",
        "id": "fQeiSPtkohHH"
      },
      "source": [
        "Изучим зависимость от даты размещения."
      ]
    },
    {
      "cell_type": "code",
      "execution_count": null,
      "metadata": {
        "cellId": "8u9brs1sdli2qxydv7snzl",
        "id": "0ti5p2FVohHH",
        "outputId": "8a063706-b55a-402c-cbdc-2842f00b616b"
      },
      "outputs": [
        {
          "data": {
            "image/png": "[encoded data removed]",
            "text/plain": [
              "<Figure size 432x288 with 1 Axes>"
            ]
          },
          "metadata": {
            "needs_background": "light"
          },
          "output_type": "display_data"
        },
        {
          "data": {
            "image/png": "[encoded data removed]",
            "text/plain": [
              "<Figure size 432x288 with 1 Axes>"
            ]
          },
          "metadata": {
            "needs_background": "light"
          },
          "output_type": "display_data"
        },
        {
          "data": {
            "image/png": "[encoded data removed]",
            "text/plain": [
              "<Figure size 432x288 with 1 Axes>"
            ]
          },
          "metadata": {
            "needs_background": "light"
          },
          "output_type": "display_data"
        }
      ],
      "source": [
        "for name in ['weekday_exposition', 'month_exposition', 'year_exposition']:\n",
        "    good_df.pivot_table(index=name, values='price_square_meter', aggfunc='median').plot(kind='bar', grid=True, ylim=(91000, 108000))"
      ]
    },
    {
      "cell_type": "markdown",
      "metadata": {
        "cellId": "hl367mwe1gvkacez09wswo",
        "id": "ZbiLN0XgohHR"
      },
      "source": [
        "В зависимости от дня недели, самая низкая цена на квартиры по объявлениям размещенным в субботу, самая высокая - во вторник и среду.\\\n",
        "В зависимости от месяца, самая низкая - в мае и июне, самая высокая - в апреле и августе.\\\n",
        "В зависимости от года, самая низкая в 2016 году, самая высокая - в 2014."
      ]
    },
    {
      "cell_type": "markdown",
      "metadata": {
        "cellId": "tnpv85t0ujor3ntkm7tth",
        "id": "Z6LJncanohHR"
      },
      "source": [
        "### Выбираем 10 населённых пунктов с наибольшим числом объявлений"
      ]
    },
    {
      "cell_type": "code",
      "execution_count": null,
      "metadata": {
        "cellId": "6oguu4ly367x36cze5oatb",
        "id": "n8pDOabiohHR",
        "outputId": "c50cae54-93fd-46da-e3f8-568e4a228832"
      },
      "outputs": [
        {
          "data": {
            "text/plain": [
              "санкт-петербург    15705\n",
              "мурино               590\n",
              "кудрово              472\n",
              "шушары               440\n",
              "всеволожск           398\n",
              "пушкин               369\n",
              "колпино              338\n",
              "парголово            327\n",
              "гатчина              304\n",
              "выборг               236\n",
              "Name: locality_name, dtype: int64"
            ]
          },
          "metadata": {},
          "output_type": "display_data"
        }
      ],
      "source": [
        "top10_locality = good_df['locality_name'].value_counts().head(10)\n",
        "top10_locality"
      ]
    },
    {
      "cell_type": "markdown",
      "metadata": {
        "cellId": "affs7js9lpn7d2fn07h",
        "id": "z2TLT4PeohHR"
      },
      "source": [
        "Посчитаем среднюю цену квадратного метра в этих населённых пунктах."
      ]
    },
    {
      "cell_type": "code",
      "execution_count": null,
      "metadata": {
        "cellId": "glc7ekwq6qs4ovd6g7ofxy",
        "id": "369_Lk5tohHR",
        "outputId": "7125cb2d-8566-4271-efa2-b3311b59775e"
      },
      "outputs": [
        {
          "data": {
            "text/html": [
              "<div>\n",
              "<style scoped>\n",
              "    .dataframe tbody tr th:only-of-type {\n",
              "        vertical-align: middle;\n",
              "    }\n",
              "\n",
              "    .dataframe tbody tr th {\n",
              "        vertical-align: top;\n",
              "    }\n",
              "\n",
              "    .dataframe thead th {\n",
              "        text-align: right;\n",
              "    }\n",
              "</style>\n",
              "<table border=\"1\" class=\"dataframe\">\n",
              "  <thead>\n",
              "    <tr style=\"text-align: right;\">\n",
              "      <th></th>\n",
              "      <th>price_square_meter</th>\n",
              "    </tr>\n",
              "    <tr>\n",
              "      <th>locality_name</th>\n",
              "      <th></th>\n",
              "    </tr>\n",
              "  </thead>\n",
              "  <tbody>\n",
              "    <tr>\n",
              "      <td>санкт-петербург</td>\n",
              "      <td>114865.470805</td>\n",
              "    </tr>\n",
              "    <tr>\n",
              "      <td>пушкин</td>\n",
              "      <td>103125.818428</td>\n",
              "    </tr>\n",
              "    <tr>\n",
              "      <td>кудрово</td>\n",
              "      <td>95324.957627</td>\n",
              "    </tr>\n",
              "    <tr>\n",
              "      <td>парголово</td>\n",
              "      <td>90175.886850</td>\n",
              "    </tr>\n",
              "    <tr>\n",
              "      <td>мурино</td>\n",
              "      <td>86087.508475</td>\n",
              "    </tr>\n",
              "    <tr>\n",
              "      <td>шушары</td>\n",
              "      <td>78677.379545</td>\n",
              "    </tr>\n",
              "    <tr>\n",
              "      <td>колпино</td>\n",
              "      <td>75424.571006</td>\n",
              "    </tr>\n",
              "    <tr>\n",
              "      <td>гатчина</td>\n",
              "      <td>69294.569079</td>\n",
              "    </tr>\n",
              "    <tr>\n",
              "      <td>всеволожск</td>\n",
              "      <td>68654.474874</td>\n",
              "    </tr>\n",
              "    <tr>\n",
              "      <td>выборг</td>\n",
              "      <td>58308.834746</td>\n",
              "    </tr>\n",
              "  </tbody>\n",
              "</table>\n",
              "</div>"
            ],
            "text/plain": [
              "                 price_square_meter\n",
              "locality_name                      \n",
              "санкт-петербург       114865.470805\n",
              "пушкин                103125.818428\n",
              "кудрово                95324.957627\n",
              "парголово              90175.886850\n",
              "мурино                 86087.508475\n",
              "шушары                 78677.379545\n",
              "колпино                75424.571006\n",
              "гатчина                69294.569079\n",
              "всеволожск             68654.474874\n",
              "выборг                 58308.834746"
            ]
          },
          "metadata": {},
          "output_type": "display_data"
        }
      ],
      "source": [
        "good_df.query('locality_name in @top10_locality.index'\n",
        "        ).pivot_table(index='locality_name', values='price_square_meter'\n",
        "                     ).sort_values(by='price_square_meter', ascending=False)"
      ]
    },
    {
      "cell_type": "markdown",
      "metadata": {
        "cellId": "xpljx4egcyxamxebl9skq",
        "id": "J_jCVzLmohHR"
      },
      "source": [
        "Самая высокая стоимость жилья в Санкт-Петербурге, самая низкая - в Выборге."
      ]
    },
    {
      "cell_type": "markdown",
      "metadata": {
        "cellId": "p7lt0d4qma3lzhp1gmu2h",
        "id": "DFi8NO2JohHR"
      },
      "source": [
        "### Определяем границы центра Санкт-Петербурга"
      ]
    },
    {
      "cell_type": "markdown",
      "metadata": {
        "cellId": "6y004sxmvwgnt08m05uwo",
        "id": "S-2yyqCBohHR"
      },
      "source": [
        "Выделим все квартиры в Санкт-Петербурге и создадим столбец `cityCenters_nearest_km` - расстояние от центра в километрах."
      ]
    },
    {
      "cell_type": "code",
      "execution_count": null,
      "metadata": {
        "cellId": "9orggorw0qe3qeg763a36e",
        "id": "UrvJkW-sohHR",
        "outputId": "cc44d44d-4b07-4b3e-acdc-8cc6fb24636c"
      },
      "outputs": [
        {
          "data": {
            "text/html": [
              "<div>\n",
              "<style scoped>\n",
              "    .dataframe tbody tr th:only-of-type {\n",
              "        vertical-align: middle;\n",
              "    }\n",
              "\n",
              "    .dataframe tbody tr th {\n",
              "        vertical-align: top;\n",
              "    }\n",
              "\n",
              "    .dataframe thead th {\n",
              "        text-align: right;\n",
              "    }\n",
              "</style>\n",
              "<table border=\"1\" class=\"dataframe\">\n",
              "  <thead>\n",
              "    <tr style=\"text-align: right;\">\n",
              "      <th></th>\n",
              "      <th>total_images</th>\n",
              "      <th>last_price</th>\n",
              "      <th>total_area</th>\n",
              "      <th>first_day_exposition</th>\n",
              "      <th>rooms</th>\n",
              "      <th>ceiling_height</th>\n",
              "      <th>floors_total</th>\n",
              "      <th>living_area</th>\n",
              "      <th>floor</th>\n",
              "      <th>is_apartment</th>\n",
              "      <th>...</th>\n",
              "      <th>days_exposition</th>\n",
              "      <th>total_area_category</th>\n",
              "      <th>price_square_meter</th>\n",
              "      <th>weekday_exposition</th>\n",
              "      <th>month_exposition</th>\n",
              "      <th>year_exposition</th>\n",
              "      <th>floor_category</th>\n",
              "      <th>ratio_living_area</th>\n",
              "      <th>ratio_kitchen_area</th>\n",
              "      <th>cityCenters_nearest_km</th>\n",
              "    </tr>\n",
              "  </thead>\n",
              "  <tbody>\n",
              "    <tr>\n",
              "      <td>0</td>\n",
              "      <td>20</td>\n",
              "      <td>13000000</td>\n",
              "      <td>108.0</td>\n",
              "      <td>2019-03-07</td>\n",
              "      <td>3</td>\n",
              "      <td>2.70</td>\n",
              "      <td>16</td>\n",
              "      <td>51.0</td>\n",
              "      <td>8</td>\n",
              "      <td>False</td>\n",
              "      <td>...</td>\n",
              "      <td>NaN</td>\n",
              "      <td>2</td>\n",
              "      <td>120370</td>\n",
              "      <td>3</td>\n",
              "      <td>3</td>\n",
              "      <td>2019</td>\n",
              "      <td>другой</td>\n",
              "      <td>0.472222</td>\n",
              "      <td>0.231481</td>\n",
              "      <td>16</td>\n",
              "    </tr>\n",
              "    <tr>\n",
              "      <td>1</td>\n",
              "      <td>10</td>\n",
              "      <td>5196000</td>\n",
              "      <td>56.0</td>\n",
              "      <td>2015-08-20</td>\n",
              "      <td>2</td>\n",
              "      <td>3.00</td>\n",
              "      <td>5</td>\n",
              "      <td>34.3</td>\n",
              "      <td>4</td>\n",
              "      <td>False</td>\n",
              "      <td>...</td>\n",
              "      <td>558</td>\n",
              "      <td>1</td>\n",
              "      <td>92786</td>\n",
              "      <td>3</td>\n",
              "      <td>8</td>\n",
              "      <td>2015</td>\n",
              "      <td>другой</td>\n",
              "      <td>0.612500</td>\n",
              "      <td>0.148214</td>\n",
              "      <td>14</td>\n",
              "    </tr>\n",
              "    <tr>\n",
              "      <td>2</td>\n",
              "      <td>0</td>\n",
              "      <td>64900000</td>\n",
              "      <td>159.0</td>\n",
              "      <td>2015-07-24</td>\n",
              "      <td>3</td>\n",
              "      <td>3.10</td>\n",
              "      <td>14</td>\n",
              "      <td>86.0</td>\n",
              "      <td>9</td>\n",
              "      <td>False</td>\n",
              "      <td>...</td>\n",
              "      <td>424</td>\n",
              "      <td>3</td>\n",
              "      <td>408176</td>\n",
              "      <td>4</td>\n",
              "      <td>7</td>\n",
              "      <td>2015</td>\n",
              "      <td>другой</td>\n",
              "      <td>0.540881</td>\n",
              "      <td>0.144654</td>\n",
              "      <td>7</td>\n",
              "    </tr>\n",
              "    <tr>\n",
              "      <td>3</td>\n",
              "      <td>2</td>\n",
              "      <td>10000000</td>\n",
              "      <td>100.0</td>\n",
              "      <td>2018-06-19</td>\n",
              "      <td>2</td>\n",
              "      <td>3.03</td>\n",
              "      <td>14</td>\n",
              "      <td>32.0</td>\n",
              "      <td>13</td>\n",
              "      <td>False</td>\n",
              "      <td>...</td>\n",
              "      <td>121</td>\n",
              "      <td>1</td>\n",
              "      <td>100000</td>\n",
              "      <td>1</td>\n",
              "      <td>6</td>\n",
              "      <td>2018</td>\n",
              "      <td>другой</td>\n",
              "      <td>0.320000</td>\n",
              "      <td>0.410000</td>\n",
              "      <td>8</td>\n",
              "    </tr>\n",
              "    <tr>\n",
              "      <td>4</td>\n",
              "      <td>5</td>\n",
              "      <td>7915000</td>\n",
              "      <td>71.6</td>\n",
              "      <td>2019-04-18</td>\n",
              "      <td>2</td>\n",
              "      <td>2.75</td>\n",
              "      <td>24</td>\n",
              "      <td>33.0</td>\n",
              "      <td>22</td>\n",
              "      <td>False</td>\n",
              "      <td>...</td>\n",
              "      <td>NaN</td>\n",
              "      <td>1</td>\n",
              "      <td>110545</td>\n",
              "      <td>3</td>\n",
              "      <td>4</td>\n",
              "      <td>2019</td>\n",
              "      <td>другой</td>\n",
              "      <td>0.460894</td>\n",
              "      <td>0.263966</td>\n",
              "      <td>12</td>\n",
              "    </tr>\n",
              "  </tbody>\n",
              "</table>\n",
              "<p>5 rows × 31 columns</p>\n",
              "</div>"
            ],
            "text/plain": [
              "   total_images  last_price  total_area first_day_exposition  rooms  \\\n",
              "0            20    13000000       108.0           2019-03-07      3   \n",
              "1            10     5196000        56.0           2015-08-20      2   \n",
              "2             0    64900000       159.0           2015-07-24      3   \n",
              "3             2    10000000       100.0           2018-06-19      2   \n",
              "4             5     7915000        71.6           2019-04-18      2   \n",
              "\n",
              "   ceiling_height  floors_total  living_area  floor  is_apartment  ...  \\\n",
              "0            2.70            16         51.0      8         False  ...   \n",
              "1            3.00             5         34.3      4         False  ...   \n",
              "2            3.10            14         86.0      9         False  ...   \n",
              "3            3.03            14         32.0     13         False  ...   \n",
              "4            2.75            24         33.0     22         False  ...   \n",
              "\n",
              "   days_exposition  total_area_category  price_square_meter  \\\n",
              "0              NaN                    2              120370   \n",
              "1              558                    1               92786   \n",
              "2              424                    3              408176   \n",
              "3              121                    1              100000   \n",
              "4              NaN                    1              110545   \n",
              "\n",
              "   weekday_exposition month_exposition  year_exposition  floor_category  \\\n",
              "0                   3                3             2019          другой   \n",
              "1                   3                8             2015          другой   \n",
              "2                   4                7             2015          другой   \n",
              "3                   1                6             2018          другой   \n",
              "4                   3                4             2019          другой   \n",
              "\n",
              "   ratio_living_area  ratio_kitchen_area  cityCenters_nearest_km  \n",
              "0           0.472222            0.231481                      16  \n",
              "1           0.612500            0.148214                      14  \n",
              "2           0.540881            0.144654                       7  \n",
              "3           0.320000            0.410000                       8  \n",
              "4           0.460894            0.263966                      12  \n",
              "\n",
              "[5 rows x 31 columns]"
            ]
          },
          "metadata": {},
          "output_type": "display_data"
        }
      ],
      "source": [
        "df_spb = df.query('locality_name == \"санкт-петербург\"').reset_index(drop=True)\n",
        "df_spb['cityCenters_nearest_km'] = (df_spb['cityCenters_nearest'] / 1000).round().astype('Int64')\n",
        "df_spb.head()"
      ]
    },
    {
      "cell_type": "code",
      "execution_count": null,
      "metadata": {
        "cellId": "vtg7crtgyjxoshrrwijk9",
        "id": "4tr7jHfGohHR",
        "outputId": "938c2433-7273-4e25-8677-9dbdac78e09c"
      },
      "outputs": [
        {
          "name": "stdout",
          "output_type": "stream",
          "text": [
            "<class 'pandas.core.frame.DataFrame'>\n",
            "RangeIndex: 15721 entries, 0 to 15720\n",
            "Data columns (total 31 columns):\n",
            "total_images              15721 non-null int64\n",
            "last_price                15721 non-null Int64\n",
            "total_area                15721 non-null float64\n",
            "first_day_exposition      15721 non-null datetime64[ns]\n",
            "rooms                     15721 non-null int64\n",
            "ceiling_height            15702 non-null float64\n",
            "floors_total              15651 non-null Int64\n",
            "living_area               15721 non-null float64\n",
            "floor                     15721 non-null int64\n",
            "is_apartment              15721 non-null bool\n",
            "studio                    15721 non-null bool\n",
            "open_plan                 15721 non-null bool\n",
            "kitchen_area              15721 non-null float64\n",
            "balcony                   15721 non-null Int64\n",
            "locality_name             15721 non-null object\n",
            "airports_nearest          15636 non-null Int64\n",
            "cityCenters_nearest       15660 non-null Int64\n",
            "parks_around3000          15660 non-null Int64\n",
            "parks_nearest             7284 non-null Int64\n",
            "ponds_around3000          15660 non-null Int64\n",
            "ponds_nearest             7983 non-null Int64\n",
            "days_exposition           13638 non-null Int64\n",
            "total_area_category       15721 non-null int64\n",
            "price_square_meter        15721 non-null Int64\n",
            "weekday_exposition        15721 non-null int64\n",
            "month_exposition          15721 non-null int64\n",
            "year_exposition           15721 non-null int64\n",
            "floor_category            15721 non-null object\n",
            "ratio_living_area         15721 non-null float64\n",
            "ratio_kitchen_area        15721 non-null float64\n",
            "cityCenters_nearest_km    15660 non-null Int64\n",
            "dtypes: Int64(12), bool(3), datetime64[ns](1), float64(6), int64(7), object(2)\n",
            "memory usage: 3.6+ MB\n"
          ]
        }
      ],
      "source": [
        "df_spb.info()"
      ]
    },
    {
      "cell_type": "code",
      "execution_count": null,
      "metadata": {
        "cellId": "b34fuvgbgo5y13s3e823ag",
        "id": "J0-yssfrohHb",
        "outputId": "4a99241c-5d2f-4b03-a603-2cf25c077481"
      },
      "outputs": [
        {
          "data": {
            "image/png": "[encoded data removed]",
            "text/plain": [
              "<Figure size 432x288 with 1 Axes>"
            ]
          },
          "metadata": {
            "needs_background": "light"
          },
          "output_type": "display_data"
        }
      ],
      "source": [
        "df_spb.pivot_table(index='cityCenters_nearest_km', values='price_square_meter').plot(style='o-', grid=True);"
      ]
    },
    {
      "cell_type": "markdown",
      "metadata": {
        "cellId": "goens8fr8dt7gf708kh0p",
        "id": "y55BwpzAohHb"
      },
      "source": [
        "Определим границу в семь километров, т.к. график после семи резко снижается."
      ]
    },
    {
      "cell_type": "markdown",
      "metadata": {
        "cellId": "yis6mdlffqw3c0l4m2apd",
        "id": "sZ0ZGIN0ohHb"
      },
      "source": [
        "### Выделяем сегмент квартир в центре"
      ]
    },
    {
      "cell_type": "markdown",
      "metadata": {
        "cellId": "nd4kdvwjcyijew4an3kw5s",
        "id": "PO1YjUWdohHb"
      },
      "source": [
        "Выделим квартиры не далее семи километров от центра."
      ]
    },
    {
      "cell_type": "code",
      "execution_count": null,
      "metadata": {
        "cellId": "3739lihy3e9ib16whpbqx",
        "id": "_zfwqopyohHb",
        "outputId": "c4eb92bd-26d6-41db-c3f1-4061f116bf76"
      },
      "outputs": [
        {
          "data": {
            "text/html": [
              "<div>\n",
              "<style scoped>\n",
              "    .dataframe tbody tr th:only-of-type {\n",
              "        vertical-align: middle;\n",
              "    }\n",
              "\n",
              "    .dataframe tbody tr th {\n",
              "        vertical-align: top;\n",
              "    }\n",
              "\n",
              "    .dataframe thead th {\n",
              "        text-align: right;\n",
              "    }\n",
              "</style>\n",
              "<table border=\"1\" class=\"dataframe\">\n",
              "  <thead>\n",
              "    <tr style=\"text-align: right;\">\n",
              "      <th></th>\n",
              "      <th>total_images</th>\n",
              "      <th>last_price</th>\n",
              "      <th>total_area</th>\n",
              "      <th>first_day_exposition</th>\n",
              "      <th>rooms</th>\n",
              "      <th>ceiling_height</th>\n",
              "      <th>floors_total</th>\n",
              "      <th>living_area</th>\n",
              "      <th>floor</th>\n",
              "      <th>is_apartment</th>\n",
              "      <th>...</th>\n",
              "      <th>days_exposition</th>\n",
              "      <th>total_area_category</th>\n",
              "      <th>price_square_meter</th>\n",
              "      <th>weekday_exposition</th>\n",
              "      <th>month_exposition</th>\n",
              "      <th>year_exposition</th>\n",
              "      <th>floor_category</th>\n",
              "      <th>ratio_living_area</th>\n",
              "      <th>ratio_kitchen_area</th>\n",
              "      <th>cityCenters_nearest_km</th>\n",
              "    </tr>\n",
              "  </thead>\n",
              "  <tbody>\n",
              "    <tr>\n",
              "      <td>0</td>\n",
              "      <td>0</td>\n",
              "      <td>64900000</td>\n",
              "      <td>159.0</td>\n",
              "      <td>2015-07-24</td>\n",
              "      <td>3</td>\n",
              "      <td>3.1</td>\n",
              "      <td>14</td>\n",
              "      <td>86.0</td>\n",
              "      <td>9</td>\n",
              "      <td>False</td>\n",
              "      <td>...</td>\n",
              "      <td>424</td>\n",
              "      <td>3</td>\n",
              "      <td>408176</td>\n",
              "      <td>4</td>\n",
              "      <td>7</td>\n",
              "      <td>2015</td>\n",
              "      <td>другой</td>\n",
              "      <td>0.540881</td>\n",
              "      <td>0.144654</td>\n",
              "      <td>7</td>\n",
              "    </tr>\n",
              "    <tr>\n",
              "      <td>1</td>\n",
              "      <td>8</td>\n",
              "      <td>6500000</td>\n",
              "      <td>97.2</td>\n",
              "      <td>2015-10-31</td>\n",
              "      <td>2</td>\n",
              "      <td>3.0</td>\n",
              "      <td>3</td>\n",
              "      <td>46.5</td>\n",
              "      <td>1</td>\n",
              "      <td>False</td>\n",
              "      <td>...</td>\n",
              "      <td>265</td>\n",
              "      <td>1</td>\n",
              "      <td>66872</td>\n",
              "      <td>5</td>\n",
              "      <td>10</td>\n",
              "      <td>2015</td>\n",
              "      <td>первый</td>\n",
              "      <td>0.478395</td>\n",
              "      <td>0.201646</td>\n",
              "      <td>2</td>\n",
              "    </tr>\n",
              "    <tr>\n",
              "      <td>2</td>\n",
              "      <td>6</td>\n",
              "      <td>15500000</td>\n",
              "      <td>149.0</td>\n",
              "      <td>2017-06-26</td>\n",
              "      <td>5</td>\n",
              "      <td>3.4</td>\n",
              "      <td>5</td>\n",
              "      <td>104.0</td>\n",
              "      <td>4</td>\n",
              "      <td>False</td>\n",
              "      <td>...</td>\n",
              "      <td>644</td>\n",
              "      <td>2</td>\n",
              "      <td>104027</td>\n",
              "      <td>0</td>\n",
              "      <td>6</td>\n",
              "      <td>2017</td>\n",
              "      <td>другой</td>\n",
              "      <td>0.697987</td>\n",
              "      <td>0.114094</td>\n",
              "      <td>4</td>\n",
              "    </tr>\n",
              "    <tr>\n",
              "      <td>3</td>\n",
              "      <td>7</td>\n",
              "      <td>45000000</td>\n",
              "      <td>161.0</td>\n",
              "      <td>2017-10-17</td>\n",
              "      <td>3</td>\n",
              "      <td>3.2</td>\n",
              "      <td>8</td>\n",
              "      <td>38.0</td>\n",
              "      <td>4</td>\n",
              "      <td>False</td>\n",
              "      <td>...</td>\n",
              "      <td>541</td>\n",
              "      <td>3</td>\n",
              "      <td>279503</td>\n",
              "      <td>1</td>\n",
              "      <td>10</td>\n",
              "      <td>2017</td>\n",
              "      <td>другой</td>\n",
              "      <td>0.236025</td>\n",
              "      <td>0.310559</td>\n",
              "      <td>7</td>\n",
              "    </tr>\n",
              "    <tr>\n",
              "      <td>4</td>\n",
              "      <td>20</td>\n",
              "      <td>11795000</td>\n",
              "      <td>136.0</td>\n",
              "      <td>2017-09-22</td>\n",
              "      <td>6</td>\n",
              "      <td>3.0</td>\n",
              "      <td>2</td>\n",
              "      <td>94.0</td>\n",
              "      <td>2</td>\n",
              "      <td>False</td>\n",
              "      <td>...</td>\n",
              "      <td>NaN</td>\n",
              "      <td>2</td>\n",
              "      <td>86728</td>\n",
              "      <td>4</td>\n",
              "      <td>9</td>\n",
              "      <td>2017</td>\n",
              "      <td>последний</td>\n",
              "      <td>0.691176</td>\n",
              "      <td>0.080882</td>\n",
              "      <td>7</td>\n",
              "    </tr>\n",
              "  </tbody>\n",
              "</table>\n",
              "<p>5 rows × 31 columns</p>\n",
              "</div>"
            ],
            "text/plain": [
              "   total_images  last_price  total_area first_day_exposition  rooms  \\\n",
              "0             0    64900000       159.0           2015-07-24      3   \n",
              "1             8     6500000        97.2           2015-10-31      2   \n",
              "2             6    15500000       149.0           2017-06-26      5   \n",
              "3             7    45000000       161.0           2017-10-17      3   \n",
              "4            20    11795000       136.0           2017-09-22      6   \n",
              "\n",
              "   ceiling_height  floors_total  living_area  floor  is_apartment  ...  \\\n",
              "0             3.1            14         86.0      9         False  ...   \n",
              "1             3.0             3         46.5      1         False  ...   \n",
              "2             3.4             5        104.0      4         False  ...   \n",
              "3             3.2             8         38.0      4         False  ...   \n",
              "4             3.0             2         94.0      2         False  ...   \n",
              "\n",
              "   days_exposition  total_area_category  price_square_meter  \\\n",
              "0              424                    3              408176   \n",
              "1              265                    1               66872   \n",
              "2              644                    2              104027   \n",
              "3              541                    3              279503   \n",
              "4              NaN                    2               86728   \n",
              "\n",
              "   weekday_exposition month_exposition  year_exposition  floor_category  \\\n",
              "0                   4                7             2015          другой   \n",
              "1                   5               10             2015          первый   \n",
              "2                   0                6             2017          другой   \n",
              "3                   1               10             2017          другой   \n",
              "4                   4                9             2017       последний   \n",
              "\n",
              "   ratio_living_area  ratio_kitchen_area  cityCenters_nearest_km  \n",
              "0           0.540881            0.144654                       7  \n",
              "1           0.478395            0.201646                       2  \n",
              "2           0.697987            0.114094                       4  \n",
              "3           0.236025            0.310559                       7  \n",
              "4           0.691176            0.080882                       7  \n",
              "\n",
              "[5 rows x 31 columns]"
            ]
          },
          "metadata": {},
          "output_type": "display_data"
        }
      ],
      "source": [
        "df_spb_center = df_spb[df_spb['cityCenters_nearest_km'] <= 7].reset_index(drop=True)\n",
        "df_spb_center.head()"
      ]
    },
    {
      "cell_type": "code",
      "execution_count": null,
      "metadata": {
        "cellId": "ico4w9307vk2zu23mmvo3d",
        "id": "U4vwbzxIohHb",
        "outputId": "0696d28f-e689-41cf-88a1-490c474318d4"
      },
      "outputs": [
        {
          "name": "stdout",
          "output_type": "stream",
          "text": [
            "<class 'pandas.core.frame.DataFrame'>\n",
            "RangeIndex: 3525 entries, 0 to 3524\n",
            "Data columns (total 31 columns):\n",
            "total_images              3525 non-null int64\n",
            "last_price                3525 non-null Int64\n",
            "total_area                3525 non-null float64\n",
            "first_day_exposition      3525 non-null datetime64[ns]\n",
            "rooms                     3525 non-null int64\n",
            "ceiling_height            3523 non-null float64\n",
            "floors_total              3518 non-null Int64\n",
            "living_area               3525 non-null float64\n",
            "floor                     3525 non-null int64\n",
            "is_apartment              3525 non-null bool\n",
            "studio                    3525 non-null bool\n",
            "open_plan                 3525 non-null bool\n",
            "kitchen_area              3525 non-null float64\n",
            "balcony                   3525 non-null Int64\n",
            "locality_name             3525 non-null object\n",
            "airports_nearest          3519 non-null Int64\n",
            "cityCenters_nearest       3525 non-null Int64\n",
            "parks_around3000          3525 non-null Int64\n",
            "parks_nearest             2343 non-null Int64\n",
            "ponds_around3000          3525 non-null Int64\n",
            "ponds_nearest             2554 non-null Int64\n",
            "days_exposition           2941 non-null Int64\n",
            "total_area_category       3525 non-null int64\n",
            "price_square_meter        3525 non-null Int64\n",
            "weekday_exposition        3525 non-null int64\n",
            "month_exposition          3525 non-null int64\n",
            "year_exposition           3525 non-null int64\n",
            "floor_category            3525 non-null object\n",
            "ratio_living_area         3525 non-null float64\n",
            "ratio_kitchen_area        3525 non-null float64\n",
            "cityCenters_nearest_km    3525 non-null Int64\n",
            "dtypes: Int64(12), bool(3), datetime64[ns](1), float64(6), int64(7), object(2)\n",
            "memory usage: 822.9+ KB\n"
          ]
        }
      ],
      "source": [
        "df_spb_center.info()"
      ]
    },
    {
      "cell_type": "markdown",
      "metadata": {
        "cellId": "l6oywkr8nw6iaztg3fbyt",
        "id": "8S4iWSQvohHb"
      },
      "source": [
        "Изучим параметры: площадь, цена, число комнат, высота потолков."
      ]
    },
    {
      "cell_type": "code",
      "execution_count": null,
      "metadata": {
        "cellId": "ck7w5xmf12jxmbz7dekwp8",
        "id": "LRHzFmq_ohHb",
        "outputId": "0b9e541b-5342-44f2-dc4b-f7e030607965"
      },
      "outputs": [
        {
          "data": {
            "image/png": "[encoded data removed]",
            "text/plain": [
              "<Figure size 432x288 with 1 Axes>"
            ]
          },
          "metadata": {
            "needs_background": "light"
          },
          "output_type": "display_data"
        },
        {
          "data": {
            "image/png": "[encoded data removed]",
            "text/plain": [
              "<Figure size 432x288 with 1 Axes>"
            ]
          },
          "metadata": {
            "needs_background": "light"
          },
          "output_type": "display_data"
        },
        {
          "data": {
            "image/png": "[encoded data removed]",
            "text/plain": [
              "<Figure size 432x288 with 1 Axes>"
            ]
          },
          "metadata": {
            "needs_background": "light"
          },
          "output_type": "display_data"
        },
        {
          "data": {
            "image/png": "[encoded data removed]",
            "text/plain": [
              "<Figure size 432x288 with 1 Axes>"
            ]
          },
          "metadata": {
            "needs_background": "light"
          },
          "output_type": "display_data"
        },
        {
          "data": {
            "image/png": "[encoded data removed]",
            "text/plain": [
              "<Figure size 432x288 with 1 Axes>"
            ]
          },
          "metadata": {
            "needs_background": "light"
          },
          "output_type": "display_data"
        }
      ],
      "source": [
        "for name in ['total_area', 'last_price', 'price_square_meter', 'rooms', 'ceiling_height']:\n",
        "    df_spb_center.hist(name, bins=100,)"
      ]
    },
    {
      "cell_type": "markdown",
      "metadata": {
        "cellId": "bkua36toeglg0d391r8ra",
        "id": "3Qg9ZuFXohHb"
      },
      "source": [
        "На первый взляд параметры имеют вид распределения Пуассона. Посмотрим более детально."
      ]
    },
    {
      "cell_type": "markdown",
      "metadata": {
        "cellId": "92r2gz4ldtsqygro0pv4si",
        "id": "pNIsIlGLohHb"
      },
      "source": [
        "#### Площадь"
      ]
    },
    {
      "cell_type": "code",
      "execution_count": null,
      "metadata": {
        "cellId": "6l8jife7od09ab82rbyjzt",
        "id": "_ChOD39EohHb",
        "outputId": "c9f7d0b2-6de5-4fe9-8c14-13ab0a57a951"
      },
      "outputs": [
        {
          "data": {
            "text/plain": [
              "count    3525.000000\n",
              "mean       93.168641\n",
              "std        59.473561\n",
              "min        12.000000\n",
              "25%        57.000000\n",
              "50%        78.700000\n",
              "75%       110.000000\n",
              "max       631.200000\n",
              "Name: total_area, dtype: float64"
            ]
          },
          "metadata": {},
          "output_type": "display_data"
        }
      ],
      "source": [
        "df_spb_center['total_area'].describe()"
      ]
    },
    {
      "cell_type": "code",
      "execution_count": null,
      "metadata": {
        "cellId": "7iov1czyvrinox9t86xh6j",
        "id": "4XnVRT_nohHb",
        "outputId": "c6e210a1-6dc7-419c-9a3f-b8702ef1c861"
      },
      "outputs": [
        {
          "data": {
            "image/png": "[encoded data removed]",
            "text/plain": [
              "<Figure size 432x288 with 1 Axes>"
            ]
          },
          "metadata": {
            "needs_background": "light"
          },
          "output_type": "display_data"
        }
      ],
      "source": [
        "plt.ylim(0, 200)\n",
        "df_spb_center.boxplot('total_area');"
      ]
    },
    {
      "cell_type": "markdown",
      "metadata": {
        "cellId": "otf46h4fw83581ovvgba1",
        "id": "cCBd6WZ3ohHb"
      },
      "source": [
        "Средняя площадь квартиры в центре равна 93 кв.м. Медианная - 78 кв.м. Распределение имеет длинный хвост в положительную сторону и выдающиеся значения более 190 кв.м."
      ]
    },
    {
      "cell_type": "markdown",
      "metadata": {
        "cellId": "i3ofa6j5pw88wc3dt93l5",
        "id": "GZePeb10ohHm"
      },
      "source": [
        "#### Цена"
      ]
    },
    {
      "cell_type": "markdown",
      "metadata": {
        "cellId": "j3jbpyozbfloi7bdgv1bph",
        "id": "qqEr7M6ZohHn"
      },
      "source": [
        "- Цена квартиры"
      ]
    },
    {
      "cell_type": "code",
      "execution_count": null,
      "metadata": {
        "cellId": "xxqo5q6oggh2t5kuggjr86",
        "id": "UCbYxouyohHn",
        "outputId": "af6636af-7b20-44b9-bc31-c106a936086b"
      },
      "outputs": [
        {
          "data": {
            "text/plain": [
              "count    3.525000e+03\n",
              "mean     1.489553e+07\n",
              "std      2.432091e+07\n",
              "min      1.600000e+06\n",
              "25%      6.690000e+06\n",
              "50%      9.200000e+06\n",
              "75%      1.450000e+07\n",
              "max      7.630000e+08\n",
              "Name: last_price, dtype: float64"
            ]
          },
          "metadata": {},
          "output_type": "display_data"
        }
      ],
      "source": [
        "df_spb_center['last_price'].describe()"
      ]
    },
    {
      "cell_type": "code",
      "execution_count": null,
      "metadata": {
        "cellId": "wljq4aldlstqstv35r0g",
        "id": "H79A4cb7ohHo",
        "outputId": "43361b5d-06ba-4be0-c4a6-7e7cd01a7d45"
      },
      "outputs": [
        {
          "data": {
            "image/png": "[encoded data removed]",
            "text/plain": [
              "<Figure size 432x288 with 1 Axes>"
            ]
          },
          "metadata": {
            "needs_background": "light"
          },
          "output_type": "display_data"
        }
      ],
      "source": [
        "plt.ylim(0, 30000000)\n",
        "df_spb_center.boxplot('last_price');"
      ]
    },
    {
      "cell_type": "markdown",
      "metadata": {
        "cellId": "5jtqo1qyknq8exqyrqwpks",
        "id": "il5E9UKFohHo"
      },
      "source": [
        "- Цена квадратного метра"
      ]
    },
    {
      "cell_type": "code",
      "execution_count": null,
      "metadata": {
        "cellId": "jqrtuhzouxh9xmtfpei7s",
        "id": "5TGGY7JSohHo",
        "outputId": "ed0d4254-d3fb-4269-d61d-f868b3159724"
      },
      "outputs": [
        {
          "data": {
            "text/plain": [
              "count    3.525000e+03\n",
              "mean     1.452280e+05\n",
              "std      9.362386e+04\n",
              "min      1.534500e+04\n",
              "25%      1.000000e+05\n",
              "50%      1.236220e+05\n",
              "75%      1.558140e+05\n",
              "max      1.907500e+06\n",
              "Name: price_square_meter, dtype: float64"
            ]
          },
          "metadata": {},
          "output_type": "display_data"
        }
      ],
      "source": [
        "df_spb_center['price_square_meter'].describe()"
      ]
    },
    {
      "cell_type": "code",
      "execution_count": null,
      "metadata": {
        "cellId": "nw94vm96nirywfb71uaei",
        "id": "tIaGL2c2ohHo",
        "outputId": "cb55ae03-ac3f-4b4f-d24d-ebf185b170da"
      },
      "outputs": [
        {
          "data": {
            "image/png": "[encoded data removed]",
            "text/plain": [
              "<Figure size 432x288 with 1 Axes>"
            ]
          },
          "metadata": {
            "needs_background": "light"
          },
          "output_type": "display_data"
        }
      ],
      "source": [
        "plt.ylim(0, 250000)\n",
        "df_spb_center.boxplot('price_square_meter');"
      ]
    },
    {
      "cell_type": "markdown",
      "metadata": {
        "cellId": "xjelaixzpcbw5cb3a0teop",
        "id": "lpBm63zDohHo"
      },
      "source": [
        "Средняя цена квартиры в центре равна 14895 тыс.руб. Медианная - 9200 тыс.руб. Распределение имеет длинный хвост в положительную сторону и выдающиеся значения более 26000 тыс.руб, а так же аномальные значения с ценой квадратного метра менее 20 тыс.руб."
      ]
    },
    {
      "cell_type": "markdown",
      "metadata": {
        "cellId": "e5oa8e6rgz48fngkl3d5h",
        "id": "-3LNMDpkohHo"
      },
      "source": [
        "#### Число комнат"
      ]
    },
    {
      "cell_type": "code",
      "execution_count": null,
      "metadata": {
        "cellId": "rtoqmtgctigthda2r9r6cp",
        "id": "IVs8BR4nohHo",
        "outputId": "de1ec2fb-9a9f-4ea6-ee36-86f77f30da1a"
      },
      "outputs": [
        {
          "data": {
            "text/plain": [
              "count    3525.000000\n",
              "mean        2.834043\n",
              "std         1.450265\n",
              "min         0.000000\n",
              "25%         2.000000\n",
              "50%         3.000000\n",
              "75%         3.000000\n",
              "max        19.000000\n",
              "Name: rooms, dtype: float64"
            ]
          },
          "metadata": {},
          "output_type": "display_data"
        }
      ],
      "source": [
        "df_spb_center['rooms'].describe()"
      ]
    },
    {
      "cell_type": "code",
      "execution_count": null,
      "metadata": {
        "cellId": "ij1ncdld4raxuhe8g2sqb",
        "id": "YhVT9fb8ohHo",
        "outputId": "5a1df35a-bc4c-438f-ed1a-6371c5755b00"
      },
      "outputs": [
        {
          "data": {
            "image/png": "[encoded data removed]",
            "text/plain": [
              "<Figure size 432x288 with 1 Axes>"
            ]
          },
          "metadata": {
            "needs_background": "light"
          },
          "output_type": "display_data"
        }
      ],
      "source": [
        "plt.ylim(0, 5)\n",
        "df_spb_center.boxplot('rooms');"
      ]
    },
    {
      "cell_type": "markdown",
      "metadata": {
        "cellId": "oy83deb2mzaygzrrtx6no",
        "id": "II0EC94WohHo"
      },
      "source": [
        "Среднее и медианное количество комнат равно 3."
      ]
    },
    {
      "cell_type": "markdown",
      "metadata": {
        "cellId": "wgsaf8s7to1o2b7g2bcr5",
        "id": "RWf9dxxpohHo"
      },
      "source": [
        "#### Высота потолков"
      ]
    },
    {
      "cell_type": "code",
      "execution_count": null,
      "metadata": {
        "cellId": "6i2tj95rbjpyf4oqlw9mhk",
        "id": "L56CZ24cohHo",
        "outputId": "66970606-a69e-4a26-94f5-dba1dedb6994"
      },
      "outputs": [
        {
          "data": {
            "text/plain": [
              "count    3523.000000\n",
              "mean        3.032411\n",
              "std         0.351488\n",
              "min         2.400000\n",
              "25%         2.787500\n",
              "50%         3.000000\n",
              "75%         3.200000\n",
              "max         6.000000\n",
              "Name: ceiling_height, dtype: float64"
            ]
          },
          "metadata": {},
          "output_type": "display_data"
        }
      ],
      "source": [
        "df_spb_center['ceiling_height'].describe()"
      ]
    },
    {
      "cell_type": "code",
      "execution_count": null,
      "metadata": {
        "cellId": "elr72x3ea34r2rn3servi",
        "id": "Wu4xhHPsohHo",
        "outputId": "00173b75-bb7f-419f-d7c1-79bfacc175ec"
      },
      "outputs": [
        {
          "data": {
            "image/png": "[encoded data removed]",
            "text/plain": [
              "<Figure size 432x288 with 1 Axes>"
            ]
          },
          "metadata": {
            "needs_background": "light"
          },
          "output_type": "display_data"
        }
      ],
      "source": [
        "plt.ylim(2, 4.5)\n",
        "df_spb_center.boxplot('ceiling_height');"
      ]
    },
    {
      "cell_type": "markdown",
      "metadata": {
        "cellId": "tzkosqi6r3d49t0fwrep",
        "id": "Irscd1cbohHy"
      },
      "source": [
        "Средняя и медианная высота потолков равна 3 м."
      ]
    },
    {
      "cell_type": "markdown",
      "metadata": {
        "cellId": "thwyn9l4ptszyrumgcp7d",
        "id": "XNdJHTl8ohHy"
      },
      "source": [
        "Изучим факторы, которые влияют на стоимость квартиры - число комнат, этаж, удалённость от центра, дата размещения объявления"
      ]
    },
    {
      "cell_type": "code",
      "execution_count": null,
      "metadata": {
        "cellId": "77nhilanr19eawt127zvs",
        "id": "yVYsM_zoohHy",
        "outputId": "e9368e78-52f0-4981-dfb9-1a0c2227ee4f"
      },
      "outputs": [
        {
          "data": {
            "image/png": "[encoded data removed]",
            "text/plain": [
              "<Figure size 432x288 with 1 Axes>"
            ]
          },
          "metadata": {
            "needs_background": "light"
          },
          "output_type": "display_data"
        },
        {
          "data": {
            "image/png": "[encoded data removed]",
            "text/plain": [
              "<Figure size 432x288 with 1 Axes>"
            ]
          },
          "metadata": {
            "needs_background": "light"
          },
          "output_type": "display_data"
        },
        {
          "data": {
            "image/png": "[encoded data removed]",
            "text/plain": [
              "<Figure size 432x288 with 1 Axes>"
            ]
          },
          "metadata": {
            "needs_background": "light"
          },
          "output_type": "display_data"
        },
        {
          "data": {
            "image/png": "[encoded data removed]",
            "text/plain": [
              "<Figure size 432x288 with 1 Axes>"
            ]
          },
          "metadata": {
            "needs_background": "light"
          },
          "output_type": "display_data"
        },
        {
          "data": {
            "image/png": "[encoded data removed]",
            "text/plain": [
              "<Figure size 432x288 with 1 Axes>"
            ]
          },
          "metadata": {
            "needs_background": "light"
          },
          "output_type": "display_data"
        },
        {
          "data": {
            "image/png": "[encoded data removed]",
            "text/plain": [
              "<Figure size 432x288 with 1 Axes>"
            ]
          },
          "metadata": {
            "needs_background": "light"
          },
          "output_type": "display_data"
        }
      ],
      "source": [
        "for name in ['rooms', 'floor_category', 'cityCenters_nearest_km', 'weekday_exposition', 'month_exposition', 'year_exposition']:\n",
        "    df_spb_center.pivot_table(index=name, values='price_square_meter', aggfunc='median').plot(kind='bar', grid=True, ylim=(80000, 180000))"
      ]
    },
    {
      "cell_type": "markdown",
      "metadata": {
        "cellId": "68xzktl4atwe3khav0yy6",
        "id": "7BJbNtKFohHy"
      },
      "source": [
        "В центре наиболее дорогой квадратный метр у однокомнатных квартир, у студий несколько дешевле, далее с увеличением числа комнат стоимость квадратного метра уменьшается. В данных по всему городу самый доргой квадратный метр у студий.\\\n",
        "Дешевле всего квартиры на первом этаже, дороже - на других этажах кроме последнего, так же как и в данных по всему городу.\\\n",
        "Самые дорогой квадратный метр в самом центре города в радиусе одного километра, далее с каждым километром стоимость снижается, однако начиная с четвертого километра стоимость несколько повышается, повидимому это связано с какими то географическими особенностями.\\\n",
        "В зависимости от дня недели, самая низкая цена на квартиры по объявлениям размещенным во вторник, самая высокая - в субботу и воскресенье. В целом по городу самая низкая в субботу, самая высокая - во вторник и среду.\\\n",
        "В зависимости от месяца, самая низкая в июле, самая высокая - в марте. В целом по городу самая низкая - в мае и июне, самая высокая - в апреле и августе.\\\n",
        "В зависимости от года, самая низкая в 2015 и 2016 годах, далее идет повышение до 2019 года, однако самая высокая цена была в 2014 году. В целом по городу самая низкая - в 2016 году, самая высокая - также в 2014."
      ]
    },
    {
      "cell_type": "markdown",
      "metadata": {
        "cellId": "czkkvivchmia38i3f93n0c",
        "id": "wLRyxIz_ohHy"
      },
      "source": [
        "Как в центре так и по всему городу в целом на стоимость квадратного метра влияют, число комнат, этаж квартиры, удаленность от центра. День недели и месяц публикации объявления по разному влияют на стоимость квартир в центре и по всему городу. В зависимости от года ситуация примерно одинаковая, хотя пик цен в центре был в 2014 году, а по всему городу в 2019 году."
      ]
    },
    {
      "cell_type": "markdown",
      "metadata": {
        "cellId": "y6k2x86jccausmc6rv2qf8",
        "id": "ui8U7IxyohHy"
      },
      "source": [
        "## Чек-лист готовности проекта\n",
        "\n",
        "Поставьте 'x' в выполненных пунктах. Далее нажмите Shift+Enter."
      ]
    },
    {
      "cell_type": "markdown",
      "metadata": {
        "cellId": "57vq8p5opnqaudb5k0jveb",
        "id": "nWutUwmuohHy"
      },
      "source": [
        "- [x]  открыт файл\n",
        "- [x]  файлы изучены (выведены первые строки, метод info())\n",
        "- [x]  определены пропущенные значения\n",
        "- [x]  заполнены пропущенные значения\n",
        "- [x]  есть пояснение, какие пропущенные значения обнаружены\n",
        "- [x]  изменены типы данных\n",
        "- [x]  есть пояснение, в каких столбцах изменены типы и почему\n",
        "- [x]  посчитано и добавлено в таблицу: цена квадратного метра\n",
        "- [x]  посчитано и добавлено в таблицу: день недели, месяц и год публикации объявления\n",
        "- [x]  посчитано и добавлено в таблицу: этаж квартиры; варианты — первый, последний, другой\n",
        "- [x]  посчитано и добавлено в таблицу: соотношение жилой и общей площади, а также отношение площади кухни к общей\n",
        "- [x]  изучены следующие параметры: площадь, цена, число комнат, высота потолков\n",
        "- [x]  построены гистограммы для каждого параметра\n",
        "- [x]  выполнено задание: \"Изучите время продажи квартиры. Постройте гистограмму. Посчитайте среднее и медиану. Опишите, сколько обычно занимает продажа. Когда можно считать, что продажи прошли очень быстро, а когда необычно долго?\"\n",
        "- [x]  выполнено задание: \"Уберите редкие и выбивающиеся значения. Опишите, какие особенности обнаружили.\"\n",
        "- [x]  выполнено задание: \"Какие факторы больше всего влияют на стоимость квартиры? Изучите, зависит ли цена от квадратного метра, числа комнат, этажа (первого или последнего), удалённости от центра. Также изучите зависимость от даты размещения: дня недели, месяца и года. \"Выберите 10 населённых пунктов с наибольшим числом объявлений. Посчитайте среднюю цену квадратного метра в этих населённых пунктах. Выделите населённые пункты с самой высокой и низкой стоимостью жилья. Эти данные можно найти по имени в столбце '*locality_name'*. \"\n",
        "- [x]  выполнено задание: \"Изучите предложения квартир: для каждой квартиры есть информация о расстоянии до центра. Выделите квартиры в Санкт-Петербурге (*'locality_name'*). Ваша задача — выяснить, какая область входит в центр. Создайте столбец с расстоянием до центра в километрах: округлите до целых значений. После этого посчитайте среднюю цену для каждого километра. Постройте график: он должен показывать, как цена зависит от удалённости от центра. Определите границу, где график сильно меняется — это и будет центральная зона. \"\n",
        "- [x]  выполнено задание: \"Выделите сегмент квартир в центре. Проанализируйте эту территорию и изучите следующие параметры: площадь, цена, число комнат, высота потолков. Также выделите факторы, которые влияют на стоимость квартиры (число комнат, этаж, удалённость от центра, дата размещения объявления). Сделайте выводы. Отличаются ли они от общих выводов по всему городу?\"\n",
        "- [x]  в каждом этапе есть выводы\n",
        "- [x]  есть общий вывод"
      ]
    }
  ],
  "metadata": {
    "ExecuteTimeLog": [
      {
        "duration": 227,
        "start_time": "2022-01-05T06:37:03.434Z"
      }
    ],
    "kernelspec": {
      "display_name": "Python 3 (ipykernel)",
      "language": "python",
      "name": "python3"
    },
    "language_info": {
      "codemirror_mode": {
        "name": "ipython",
        "version": 3
      },
      "file_extension": ".py",
      "mimetype": "text/x-python",
      "name": "python",
      "nbconvert_exporter": "python",
      "pygments_lexer": "ipython3",
      "version": "3.9.5"
    },
    "notebookId": "de42c476-0bc3-4812-ac12-8997b54393c5",
    "notebookPath": "b5591300-4332-423d-b69c-46e3b8a8e667.ipynb",
    "toc": {
      "base_numbering": 1,
      "nav_menu": {},
      "number_sections": true,
      "sideBar": true,
      "skip_h1_title": true,
      "title_cell": "Содержание",
      "title_sidebar": "Contents",
      "toc_cell": true,
      "toc_position": {},
      "toc_section_display": true,
      "toc_window_display": true
    },
    "colab": {
      "name": "research_of_ads_for_the_sale_of_apartments.ipynb",
      "provenance": []
    }
  },
  "nbformat": 4,
  "nbformat_minor": 0
}